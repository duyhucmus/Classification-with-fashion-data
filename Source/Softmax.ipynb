{
  "cells": [
    {
      "attachments": {},
      "cell_type": "markdown",
      "metadata": {
        "id": "FECIBC3rZhx8"
      },
      "source": [
        "### Thêm các thư viện cần thiết\n"
      ]
    },
    {
      "cell_type": "code",
      "execution_count": 87,
      "metadata": {
        "id": "k17MSXeFZhyM"
      },
      "outputs": [],
      "source": [
        "import numpy as np\n",
        "import pandas as pd\n",
        "import matplotlib.pyplot as plt\n",
        "import pandas as pd\n"
      ]
    },
    {
      "attachments": {},
      "cell_type": "markdown",
      "metadata": {
        "id": "_cqHmDtwZhyU"
      },
      "source": [
        "### Đọc dataset"
      ]
    },
    {
      "cell_type": "code",
      "execution_count": 88,
      "metadata": {
        "id": "WR4eFI3sZhyY"
      },
      "outputs": [],
      "source": [
        "def readData(file_train,file_test):\n",
        "    df_train=pd.read_csv(file_train)\n",
        "    df_test=pd.read_csv(file_test)\n",
        "    train_X=df_train.iloc[:,1:]\n",
        "    train_Y=df_train.iloc[:,0]\n",
        "    test_X=df_test.iloc[:,1:]\n",
        "    test_Y=df_test.iloc[:,0]\n",
        "    return np.array(train_X), np.array(train_Y), np.array(test_X), np.array(test_Y)"
      ]
    },
    {
      "cell_type": "code",
      "execution_count": 89,
      "metadata": {
        "id": "b6MscT0oZhya"
      },
      "outputs": [],
      "source": [
        "train_X, train_Y, test_X, test_Y=readData('./fashion-mnist_train.csv','./fashion-mnist_test.csv')"
      ]
    },
    {
      "cell_type": "code",
      "execution_count": 90,
      "metadata": {},
      "outputs": [
        {
          "data": {
            "image/png": "[encoded data removed]",
            "text/plain": [
              "<Figure size 1000x500 with 10 Axes>"
            ]
          },
          "metadata": {},
          "output_type": "display_data"
        }
      ],
      "source": [
        "Class_label=['T-shirt/Top', 'Trouser', 'Pullover', 'Dress', 'Coat', 'Sandal', 'Shirt','Sneaker', 'Bag', 'Ankle boot']\n",
        "rand_arr=np.random.choice(range(train_X.shape[0]),10)\n",
        "plt.figure(figsize=(10,5))\n",
        "for i, index in enumerate(rand_arr):\n",
        "    plt.subplot(2,5,i+1)\n",
        "    plt.imshow(train_X[index].reshape(28,28),cmap='gist_gray')\n",
        "    plt.xticks([])\n",
        "    plt.yticks([])\n",
        "    plt.xlabel(Class_label[train_Y[index]],color='green')"
      ]
    },
    {
      "attachments": {},
      "cell_type": "markdown",
      "metadata": {
        "id": "l5QHR7IRZhyc"
      },
      "source": [
        "### Khám phá dữ liệu "
      ]
    },
    {
      "cell_type": "code",
      "execution_count": 91,
      "metadata": {
        "colab": {
          "base_uri": "https://localhost:8080/"
        },
        "id": "pYoc3xXOZhye",
        "outputId": "897812d9-54e7-4d4b-c822-d5b351fe8ab3"
      },
      "outputs": [
        {
          "name": "stdout",
          "output_type": "stream",
          "text": [
            "(60000, 784)\n",
            "(60000,)\n",
            "(10000, 784)\n",
            "(10000,)\n"
          ]
        }
      ],
      "source": [
        "print(train_X.shape)\n",
        "print(train_Y.shape)\n",
        "print(test_X.shape)\n",
        "print(test_Y.shape)"
      ]
    },
    {
      "cell_type": "code",
      "execution_count": 92,
      "metadata": {},
      "outputs": [
        {
          "data": {
            "text/plain": [
              "array([0, 1, 2, 3, 4, 5, 6, 7, 8, 9], dtype=int64)"
            ]
          },
          "execution_count": 92,
          "metadata": {},
          "output_type": "execute_result"
        }
      ],
      "source": [
        "np.unique(train_Y)"
      ]
    },
    {
      "attachments": {},
      "cell_type": "markdown",
      "metadata": {
        "id": "TnozOA3CZhyp"
      },
      "source": [
        "### Tiền xử lý dữ liệu"
      ]
    },
    {
      "cell_type": "code",
      "execution_count": 93,
      "metadata": {
        "id": "yNOOnTP-Zhys"
      },
      "outputs": [],
      "source": [
        "def add_ones(X):\n",
        "    return np.hstack((np.ones((len(X), 1)), X))"
      ]
    },
    {
      "cell_type": "code",
      "execution_count": 94,
      "metadata": {},
      "outputs": [],
      "source": [
        "def scale(X):# min max scale to 0-1\n",
        "    return (X - X.min()) / (X.max() - X.min())"
      ]
    },
    {
      "cell_type": "code",
      "execution_count": 95,
      "metadata": {},
      "outputs": [],
      "source": [
        "def normalize(X):# z_score normalize\n",
        "    normalized = (X - (X).mean(axis=0)) / (X).std(axis=0)\n",
        "    normalized[normalized != normalized] = 0\n",
        "    return normalized"
      ]
    },
    {
      "attachments": {},
      "cell_type": "markdown",
      "metadata": {},
      "source": [
        "Ta thử thiết kế ra véc-tơ đầu vào $\\textbf{X news}$ thay cho véc-tơ đầu vào $\\textbf{X}$ sao cho véc-tơ đầu vào $\\textbf{X news}$ sẽ giúp mô hình Softmax Regression dự đoán đầu ra $Y$ tốt hơn hơn so với véc-tơ đầu vào $\\textbf{X}$. Cụ thể ở đây, ta sẽ thử một cách thiết kế đơn giản cho véc-tơ đầu vào $\\textbf{X news}$: $\\textbf{X news}$ là $\\textbf{X}$ (chứa các giá trị pixel) được bổ sung thêm 2 đặc trưng là \"intensity\" và \"symmetry\".\n",
        "\n",
        "- \"intensity\" của một ảnh cho biết giá trị pixel trung bình của ảnh; đặc trưng này có thể giúp ích cho việc phân tách giữa các hình vì các áo quần, giày dép ít vải hơn (\"intensity\" thấp) và có các áo quần, giày dép nhiều vải hơn (\"intensity\" cao).\n",
        "- \"symmetry\" của ảnh cho biết mức độ đối xứng của ảnh; đặc trưng này cũng có thể giúp ích cho việc phân tách giữa các trang phục vì giày dép mức độ đối xứng thấp hơn áo quần và độ đối xứng giữa các áo quần tay dài và ngắn cũng khác nhau. Cụ thể, \"symmetry\" của ảnh được tính như sau:\n",
        "    - Lấy ảnh trừ đi ảnh lật theo chiều ngang, lấy trị tuyệt đối, rồi tính trung bình. Gọi kết quả tính được là s1\n",
        "    - Lấy ảnh trừ đi ảnh lật theo chiều dọc, lấy trị tuyệt đối, rồi tính trung bình. Gọi kết quả tính được là s2\n",
        "    - symmetry = - (s1 + s2) / 2"
      ]
    },
    {
      "cell_type": "code",
      "execution_count": 96,
      "metadata": {},
      "outputs": [],
      "source": [
        "def add_features(X, mins=None, maxs=None):\n",
        "    intens = (X.sum(axis=1)/X.shape[1]).reshape(-1,1)\n",
        "    temp= []\n",
        "    for i in range(X.shape[0]):\n",
        "        size = 28\n",
        "        img = X[i].reshape(size,size)\n",
        "        s1 = np.sum(np.abs(img - np.flip(img,axis=0)))/X.shape[1]\n",
        "        s2 = np.sum(np.abs(img - np.flip(img,axis=1)))/X.shape[1]\n",
        "        symm_element = -(s1+s2)/2\n",
        "        temp.append(symm_element)\n",
        "    symm = np.array(temp)\n",
        "    symm = symm.reshape(-1,1)\n",
        "    if (mins is None or maxs is None):\n",
        "        mins = np.array([np.min(intens),np.min(symm)])\n",
        "        maxs = np.array([np.max(intens),np.max(symm)])\n",
        "        max_min = maxs-mins\n",
        "        intens = (intens - mins[0])/max_min[0]\n",
        "        symm = (symm - mins[1])/max_min[1]\n",
        "        add_col = np.hstack((intens, symm))\n",
        "        X = np.hstack((X,add_col))\n",
        "        return X,mins,maxs\n",
        "    max_min = maxs-mins\n",
        "    intens = (intens - mins[0])/max_min[0]\n",
        "    symm = (symm - mins[1])/max_min[1]\n",
        "    add_col = np.hstack((intens, symm))\n",
        "    X = np.hstack((X,add_col))\n",
        "    return X"
      ]
    },
    {
      "cell_type": "code",
      "execution_count": 97,
      "metadata": {},
      "outputs": [],
      "source": [
        "Train_X_new, min_f, max_f = add_features(scale(train_X))"
      ]
    },
    {
      "cell_type": "code",
      "execution_count": 98,
      "metadata": {},
      "outputs": [
        {
          "name": "stdout",
          "output_type": "stream",
          "text": [
            "(60000, 787)\n"
          ]
        }
      ],
      "source": [
        "Train_X_new = add_ones(Train_X_new)\n",
        "print(Train_X_new.shape)"
      ]
    },
    {
      "cell_type": "code",
      "execution_count": 99,
      "metadata": {},
      "outputs": [
        {
          "data": {
            "text/plain": [
              "array([ 0.01938776, -0.52454982])"
            ]
          },
          "execution_count": 99,
          "metadata": {},
          "output_type": "execute_result"
        }
      ],
      "source": [
        "min_f"
      ]
    },
    {
      "cell_type": "code",
      "execution_count": 100,
      "metadata": {},
      "outputs": [
        {
          "data": {
            "text/plain": [
              "array([ 0.75223589, -0.01938776])"
            ]
          },
          "execution_count": 100,
          "metadata": {},
          "output_type": "execute_result"
        }
      ],
      "source": [
        "max_f"
      ]
    },
    {
      "cell_type": "code",
      "execution_count": 101,
      "metadata": {},
      "outputs": [
        {
          "name": "stdout",
          "output_type": "stream",
          "text": [
            "Min of train_X: 0.0, max of train_X: 1.0\n"
          ]
        }
      ],
      "source": [
        "print(f'Min of train_X: {Train_X_new.min()}, max of train_X: {Train_X_new.max()}')"
      ]
    },
    {
      "cell_type": "code",
      "execution_count": 102,
      "metadata": {},
      "outputs": [
        {
          "data": {
            "text/plain": [
              "array([1.        , 0.01568627, 0.24313725, ..., 0.16078431, 0.37049095,\n",
              "       0.75318837])"
            ]
          },
          "execution_count": 102,
          "metadata": {},
          "output_type": "execute_result"
        }
      ],
      "source": [
        "Train_X_new[Train_X_new != 0]"
      ]
    },
    {
      "attachments": {},
      "cell_type": "markdown",
      "metadata": {
        "id": "W6Uhx4bYZhyu"
      },
      "source": [
        "### Mô hình Softmax Regression"
      ]
    },
    {
      "attachments": {},
      "cell_type": "markdown",
      "metadata": {},
      "source": [
        "Hàm softmax cho dữ liệu\n",
        "- Input: Giá trị đầu vào Z (X*W)\n",
        "- Output: Giá trị xác suất sau khi được tính toán bởi hàm soft max"
      ]
    },
    {
      "cell_type": "code",
      "execution_count": 103,
      "metadata": {},
      "outputs": [],
      "source": [
        "def softmax(z):\n",
        "    exp_Z = np.exp(z - np.max(z, axis=1, keepdims=True))\n",
        "    sum_mau = np.sum(exp_Z, axis=1).reshape(-1,1)\n",
        "    sft = exp_Z / sum_mau\n",
        "    return sft"
      ]
    },
    {
      "attachments": {},
      "cell_type": "markdown",
      "metadata": {},
      "source": [
        "Hàm trả về toàn bộ layer\n",
        "- Input: Giá trị đầu vào Z (X*W)\n",
        "- Output: Giá trị xác suất của toàn bộ layer"
      ]
    },
    {
      "cell_type": "code",
      "execution_count": 104,
      "metadata": {},
      "outputs": [],
      "source": [
        "def compute_output_all_layer(Z):\n",
        "    return softmax(Z)"
      ]
    },
    {
      "attachments": {},
      "cell_type": "markdown",
      "metadata": {},
      "source": [
        "Hàm trả về max layer\n",
        "- Input: Giá trị đầu vào Z (X*W)\n",
        "- Output: Giá trị xác suất lớn nhất layer"
      ]
    },
    {
      "cell_type": "code",
      "execution_count": 105,
      "metadata": {},
      "outputs": [],
      "source": [
        "def compute_output_max_layer(Z):\n",
        "    return np.argmax(softmax(Z), axis=1)"
      ]
    },
    {
      "attachments": {},
      "cell_type": "markdown",
      "metadata": {},
      "source": [
        "Hàm trả về độ lỗi (tỉ lệ dự đoán sai %)\n",
        "- Input: Giá trị dự đoán, giá trị thực\n",
        "- Output: Tỉ lệ dự đoán sai so với giá trị thực"
      ]
    },
    {
      "cell_type": "code",
      "execution_count": 106,
      "metadata": {},
      "outputs": [],
      "source": [
        "def compute_mbe(predicted_y, y, N):\n",
        "    return np.sum(predicted_y != y) / N * 100"
      ]
    },
    {
      "attachments": {},
      "cell_type": "markdown",
      "metadata": {},
      "source": [
        "Hàm tính cross entropy\n",
        "- Input: Giá trị đầu vào one-hot vector, giá trị xác suất của layer\n",
        "- Output: Cross entropy của layer"
      ]
    },
    {
      "cell_type": "code",
      "execution_count": 107,
      "metadata": {},
      "outputs": [],
      "source": [
        "def cross_entropy(p, t):\n",
        "    return -np.sum(p * np.log(t))"
      ]
    },
    {
      "attachments": {},
      "cell_type": "markdown",
      "metadata": {},
      "source": [
        "Hàm chuyển ma trận mục tiêu thành ma trận one-hot\n",
        "- Input: Dữ liệu mục tiêu\n",
        "- Output: Dự liệu mục tiêu dạng one-hot"
      ]
    },
    {
      "cell_type": "code",
      "execution_count": 108,
      "metadata": {},
      "outputs": [],
      "source": [
        "def one_hot_transform(y,num_class):\n",
        "    return np.eye(num_class)[y]"
      ]
    },
    {
      "attachments": {},
      "cell_type": "markdown",
      "metadata": {},
      "source": [
        "Hàm chia mini-batch\n",
        "- Input: Dữ liệu huấn luyện X, dữ liệu one-hot y, độ lớn của batch, tập hợp của vị trí của các dòng dữ liệu X\n",
        "- Output: Các batch ngẫu nhiên"
      ]
    },
    {
      "cell_type": "code",
      "execution_count": 109,
      "metadata": {},
      "outputs": [],
      "source": [
        "def implement_minibatches(inputs, targets, batchsize, indices):\n",
        "    np.random.shuffle(indices)\n",
        "    for start_ID in range(0, len(indices) - batchsize + 1, batchsize):\n",
        "        wanted = indices[start_ID:start_ID + batchsize]\n",
        "        yield inputs[wanted], targets[wanted]"
      ]
    },
    {
      "attachments": {},
      "cell_type": "markdown",
      "metadata": {},
      "source": [
        "Hàm tính gradient desent cho mini-batch\n",
        "- Input: Giá trị dự đoán, giá trị thực, dữ liệu X, độ lớn của batch\n",
        "- Output: Giá trị gradient descent"
      ]
    },
    {
      "cell_type": "code",
      "execution_count": 110,
      "metadata": {},
      "outputs": [],
      "source": [
        "def compute_grad(Pred,Actula,X,minibat_size):\n",
        "    return (1 / minibat_size) * X.T@(Pred - Actula)"
      ]
    },
    {
      "attachments": {},
      "cell_type": "markdown",
      "metadata": {},
      "source": [
        "Hàm train dữ liệu"
      ]
    },
    {
      "cell_type": "code",
      "execution_count": 111,
      "metadata": {
        "id": "ZW4RMjLUZhyv"
      },
      "outputs": [],
      "source": [
        "def train_smreg(X, y, mb_size, lr, max_epoch, wanted_mbe):\n",
        "    N, D = X.shape\n",
        "    n_class = len(np.unique(y))\n",
        "    W = np.zeros((D, n_class))\n",
        "    y_one_hot = one_hot_transform(y, n_class)\n",
        "    cross_entropy_losses = []\n",
        " \n",
        "    indices = np.arange(N)\n",
        "    for epoch in range(max_epoch):\n",
        "        mini_batches = implement_minibatches(X, y_one_hot, mb_size, indices)\n",
        "        for batch in mini_batches:\n",
        "            x_mb, y_mb = batch\n",
        "            Z = x_mb@W\n",
        "            probs = compute_output_all_layer(Z)\n",
        "            grad = compute_grad(probs,y_mb,x_mb,mb_size)\n",
        "            W -= lr * grad\n",
        "        \n",
        "        Z = X@W\n",
        "        # Tính cross entropy loss\n",
        "        probs = compute_output_all_layer(Z)\n",
        "        cross_entropy_loss = 1/N * cross_entropy(y_one_hot, probs)\n",
        "        cross_entropy_losses = np.append(cross_entropy_losses, cross_entropy_loss)\n",
        " \n",
        "        # Tính mbe\n",
        "        predicted_y = compute_output_max_layer(Z)\n",
        "        mbe = compute_mbe(predicted_y, y, N)\n",
        "        print('mbe:',mbe)\n",
        "        if mbe <= wanted_mbe:\n",
        "            break\n",
        "\n",
        "    return W, cross_entropy_losses\n",
        "\n",
        "def predict(W, X):\n",
        "    X_new, min_f, max_f = add_features(scale(X))\n",
        "    X_new = add_ones(scale(X_new))\n",
        "    Z = X_new@W\n",
        "    preds = compute_output_max_layer(Z)\n",
        "    return preds\n",
        "\n",
        "def accuracy(y_pred, y_test):\n",
        "    return 1 - compute_mbe(y_pred,y_test,len(y_test))/100"
      ]
    },
    {
      "attachments": {},
      "cell_type": "markdown",
      "metadata": {
        "id": "0Kmrw3epZhy7"
      },
      "source": [
        "### Test dữ liệu"
      ]
    },
    {
      "attachments": {},
      "cell_type": "markdown",
      "metadata": {
        "id": "_Oo_9WmPFDh8"
      },
      "source": [
        "### Softmax with GD"
      ]
    },
    {
      "cell_type": "code",
      "execution_count": 112,
      "metadata": {
        "colab": {
          "base_uri": "https://localhost:8080/",
          "height": 269
        },
        "id": "bk-vE0V-E7CZ",
        "outputId": "f788fb25-3b1c-4f42-8e26-422d98467867"
      },
      "outputs": [
        {
          "name": "stdout",
          "output_type": "stream",
          "text": [
            "mbe: 69.11666666666667\n",
            "mbe: 55.276666666666664\n",
            "mbe: 46.800000000000004\n",
            "mbe: 41.38666666666666\n",
            "mbe: 38.263333333333335\n",
            "mbe: 36.483333333333334\n",
            "mbe: 35.58833333333333\n",
            "mbe: 34.945\n",
            "mbe: 34.596666666666664\n",
            "mbe: 34.325\n",
            "mbe: 34.178333333333335\n",
            "mbe: 34.04\n",
            "mbe: 33.98833333333333\n",
            "mbe: 33.95333333333333\n",
            "mbe: 33.928333333333335\n",
            "mbe: 33.858333333333334\n",
            "mbe: 33.815\n",
            "mbe: 33.76833333333333\n",
            "mbe: 33.751666666666665\n",
            "mbe: 33.72\n",
            "mbe: 33.695\n",
            "mbe: 33.663333333333334\n",
            "mbe: 33.64333333333333\n",
            "mbe: 33.62833333333333\n",
            "mbe: 33.60666666666667\n",
            "mbe: 33.575\n",
            "mbe: 33.538333333333334\n",
            "mbe: 33.5\n",
            "mbe: 33.483333333333334\n",
            "mbe: 33.46666666666667\n",
            "mbe: 33.44\n",
            "mbe: 33.41833333333334\n",
            "mbe: 33.39833333333333\n",
            "mbe: 33.38333333333333\n",
            "mbe: 33.34666666666667\n",
            "mbe: 33.29666666666667\n",
            "mbe: 33.263333333333335\n",
            "mbe: 33.233333333333334\n",
            "mbe: 33.196666666666665\n",
            "mbe: 33.15\n",
            "mbe: 33.105000000000004\n",
            "mbe: 33.05833333333334\n",
            "mbe: 33.00833333333333\n",
            "mbe: 32.95666666666667\n",
            "mbe: 32.928333333333335\n",
            "mbe: 32.87\n",
            "mbe: 32.803333333333335\n",
            "mbe: 32.736666666666665\n",
            "mbe: 32.681666666666665\n",
            "mbe: 32.60166666666667\n",
            "CPU times: total: 1min 24s\n",
            "Wall time: 29.2 s\n"
          ]
        },
        {
          "data": {
            "text/plain": [
              "Text(0, 0.5, 'Log (for clarity) of training cross-entropy')"
            ]
          },
          "execution_count": 112,
          "metadata": {},
          "output_type": "execute_result"
        },
        {
          "data": {
            "image/png": "[encoded data removed]",
            "text/plain": [
              "<Figure size 640x480 with 1 Axes>"
            ]
          },
          "metadata": {},
          "output_type": "display_data"
        }
      ],
      "source": [
        "%%time\n",
        "W_GD, train_ces = train_smreg(\n",
        "    Train_X_new, train_Y, mb_size=len(Train_X_new), lr=0.03, max_epoch=50, wanted_mbe=13)\n",
        "plt.plot(np.log(train_ces))\n",
        "plt.xlabel('Epoch')\n",
        "plt.ylabel('Log (for clarity) of training cross-entropy')"
      ]
    },
    {
      "attachments": {},
      "cell_type": "markdown",
      "metadata": {},
      "source": [
        "Cross-entropy"
      ]
    },
    {
      "cell_type": "code",
      "execution_count": 113,
      "metadata": {},
      "outputs": [
        {
          "data": {
            "text/plain": [
              "1.1579369051139767"
            ]
          },
          "execution_count": 113,
          "metadata": {},
          "output_type": "execute_result"
        }
      ],
      "source": [
        "train_ces[-1]"
      ]
    },
    {
      "attachments": {},
      "cell_type": "markdown",
      "metadata": {
        "id": "vwwow14IJOjN"
      },
      "source": [
        "### Softmax with Mini-batch GD"
      ]
    },
    {
      "cell_type": "code",
      "execution_count": 114,
      "metadata": {
        "colab": {
          "base_uri": "https://localhost:8080/",
          "height": 536
        },
        "id": "ZORu4ID7JNwM",
        "outputId": "25c1a1cc-4e8c-47ec-ebca-b0f3f45ba824"
      },
      "outputs": [
        {
          "name": "stdout",
          "output_type": "stream",
          "text": [
            "mbe: 18.051666666666666\n",
            "mbe: 16.325\n",
            "mbe: 16.051666666666666\n",
            "mbe: 15.85\n",
            "mbe: 15.901666666666667\n",
            "mbe: 14.845\n",
            "mbe: 15.056666666666665\n",
            "mbe: 14.751666666666665\n",
            "mbe: 14.430000000000001\n",
            "mbe: 14.886666666666667\n",
            "mbe: 14.201666666666668\n",
            "mbe: 14.223333333333333\n",
            "mbe: 14.361666666666666\n",
            "mbe: 14.155000000000001\n",
            "mbe: 14.011666666666667\n",
            "mbe: 13.925\n",
            "mbe: 13.79\n",
            "mbe: 14.438333333333334\n",
            "mbe: 14.308333333333334\n",
            "mbe: 14.336666666666668\n",
            "mbe: 13.878333333333334\n",
            "mbe: 13.563333333333333\n",
            "mbe: 13.458333333333334\n",
            "mbe: 13.663333333333332\n",
            "mbe: 13.448333333333334\n",
            "mbe: 13.661666666666667\n",
            "mbe: 13.736666666666666\n",
            "mbe: 13.505\n",
            "mbe: 13.433333333333334\n",
            "mbe: 13.385\n",
            "mbe: 13.895\n",
            "mbe: 13.405000000000001\n",
            "mbe: 13.345\n",
            "mbe: 13.514999999999999\n",
            "mbe: 13.34\n",
            "mbe: 13.198333333333334\n",
            "mbe: 13.200000000000001\n",
            "mbe: 13.141666666666666\n",
            "mbe: 14.796666666666667\n",
            "mbe: 13.165\n",
            "mbe: 13.298333333333334\n",
            "mbe: 13.611666666666666\n",
            "mbe: 13.148333333333333\n",
            "mbe: 13.046666666666667\n",
            "mbe: 13.153333333333334\n",
            "mbe: 12.978333333333333\n",
            "CPU times: total: 43.2 s\n",
            "Wall time: 22.4 s\n"
          ]
        },
        {
          "data": {
            "text/plain": [
              "Text(0, 0.5, 'Log (for clarity) of training cross-entropy')"
            ]
          },
          "execution_count": 114,
          "metadata": {},
          "output_type": "execute_result"
        },
        {
          "data": {
            "image/png": "[encoded data removed]",
            "text/plain": [
              "<Figure size 640x480 with 1 Axes>"
            ]
          },
          "metadata": {},
          "output_type": "display_data"
        }
      ],
      "source": [
        "%%time\n",
        "W_mini, train_ces = train_smreg(\n",
        "    Train_X_new, train_Y, mb_size=32, lr=0.03, max_epoch=50, wanted_mbe = 13)\n",
        "\n",
        "plt.plot(np.log(train_ces))\n",
        "plt.xlabel('Epoch')\n",
        "plt.ylabel('Log (for clarity) of training cross-entropy')"
      ]
    },
    {
      "attachments": {},
      "cell_type": "markdown",
      "metadata": {},
      "source": [
        "Cross-entropy"
      ]
    },
    {
      "cell_type": "code",
      "execution_count": 115,
      "metadata": {},
      "outputs": [
        {
          "data": {
            "text/plain": [
              "0.3762784544536918"
            ]
          },
          "execution_count": 115,
          "metadata": {},
          "output_type": "execute_result"
        }
      ],
      "source": [
        "train_ces[-1]"
      ]
    },
    {
      "attachments": {},
      "cell_type": "markdown",
      "metadata": {},
      "source": [
        "### Đánh giá mô hình "
      ]
    },
    {
      "attachments": {},
      "cell_type": "markdown",
      "metadata": {},
      "source": [
        "#### Softmax regression"
      ]
    },
    {
      "attachments": {},
      "cell_type": "markdown",
      "metadata": {},
      "source": [
        "Các lớp được dự đoán"
      ]
    },
    {
      "cell_type": "code",
      "execution_count": 116,
      "metadata": {},
      "outputs": [
        {
          "data": {
            "text/plain": [
              "array([0, 1, 2, ..., 8, 8, 4], dtype=int64)"
            ]
          },
          "execution_count": 116,
          "metadata": {},
          "output_type": "execute_result"
        }
      ],
      "source": [
        "y_pred = predict(W_GD, test_X)\n",
        "y_pred"
      ]
    },
    {
      "attachments": {},
      "cell_type": "markdown",
      "metadata": {},
      "source": [
        "Các lớp bị dự đoán sai"
      ]
    },
    {
      "cell_type": "code",
      "execution_count": 117,
      "metadata": {},
      "outputs": [
        {
          "name": "stdout",
          "output_type": "stream",
          "text": [
            "2, 3, 2, 6, 5, 6, 5, 6, 6, 4, 5, 7, 5, 8, 8, 2, 0, 5, 6, 5, 5, 6, 4, 8, 6, 4, 2, 2, 6, 4, 0, 5, 2, 5, 1, 5, 4, 5, 6, 4, 2, 2, 6, 0, 4, 6, 8, 2, 2, 4, 5, 5, 5, 6, 0, 0, 5, 5, 6, 2, 0, 9, 5, 0, 5, 7, 5, 7, 9, 5, 5, 4, 5, 6, 2, 4, 6, 4, 2, 6, 2, 5, 5, 5, 3, 4, 0, 5, 7, 6, 6, 6, 6, 6, 0, 5, 0, 5, 4, 6, 6, 5, 5, 6, 6, 4, 6, 6, 5, 5, 1, 5, 6, 2, 2, 6, 6, 7, 5, 4, 2, 5, 5, 0, 4, 6, 5, 6, 2, 5, 5, 5, 6, 5, 5, 4, 4, 6, 6, 2, 5, 5, 5, 5, 5, 4, 6, 2, 5, 5, 5, 6, 6, 6, 6, 6, 6, 2, 6, 6, 5, 1, 5, 2, 4, 2, 5, 1, 8, 0, 4, 6, 4, 1, 5, 9, 2, 4, 2, 6, 6, 6, 5, 5, 5, 4, 6, 4, 5, 4, 2, 5, 0, 5, 7, 5, 6, 6, 6, 8, 5, 5, 6, 6, 6, 5, 6, 6, 5, 7, 6, 2, 4, 5, 4, 5, 4, 6, 6, 6, 5, 4, 8, 2, 5, 0, 4, 3, 5, 6, 5, 8, 4, 9, 6, 8, 5, 2, 9, 6, 4, 5, 6, 5, 1, 5, 5, 5, 5, 6, 5, 2, 6, 5, 6, 5, 9, 6, 5, 0, 6, 2, 8, 3, 4, 5, 6, 6, 2, 5, 5, 6, 4, 6, 6, 4, 5, 5, 0, 6, 6, 6, 0, 5, 8, 6, 5, 2, 6, 6, 3, 6, 2, 5, 2, 5, 5, 5, 6, 6, 6, 2, 4, 3, 6, 9, 6, 7, 4, 5, 2, 5, 8, 5, 0, 2, 5, 5, 5, 5, 4, 2, 5, 6, 4, 6, 8, 6, 5, 6, 5, 5, 6, 7, 5, 4, 5, 6, 6, 4, 6, 6, 6, 6, 6, 5, 2, 4, 6, 5, 6, 5, 5, 6, 2, 6, 1, 5, 2, 3, 5, 4, 1, 0, 1, 6, 5, 5, 5, 5, 5, 5, 6, 6, 7, 0, 8, 6, 7, 5, 5, 6, 5, 8, 5, 6, 5, 2, 1, 5, 8, 6, 4, 0, 5, 6, 5, 6, 5, 7, 5, 6, 5, 5, 6, 6, 5, 6, 4, 9, 4, 6, 4, 5, 5, 6, 0, 6, 5, 5, 1, 6, 6, 3, 7, 5, 6, 6, 2, 2, 6, 8, 8, 6, 5, 4, 5, 9, 5, 6, 6, 5, 6, 6, 6, 3, 6, 2, 6, 5, 2, 9, 2, 5, 4, 6, 6, 5, 6, 6, 5, 3, 4, 6, 0, 6, 6, 6, 5, 0, 6, 5, 5, 5, 5, 5, 6, 9, 5, 4, 5, 6, 5, 6, 5, 4, 5, 6, 5, 6, 1, 5, 5, 4, 4, 4, 5, 6, 4, 2, 6, 7, 3, 0, 6, 8, 5, 4, 7, 6, 5, 0, 3, 5, 6, 6, 6, 5, 5, 6, 4, 1, 5, 7, 6, 9, 5, 6, 6, 4, 6, 2, 6, 2, 3, 5, 6, 5, 6, 7, 7, 5, 8, 2, 6, 4, 6, 0, 2, 6, 9, 6, 6, 5, 9, 5, 6, 6, 6, 5, 6, 5, 5, 6, 5, 8, 6, 6, 2, 5, 0, 4, 3, 2, 0, 6, 2, 4, 6, 6, 6, 5, 0, 5, 5, 2, 4, 6, 5, 6, 5, 6, 7, 2, 7, 4, 2, 3, 7, 5, 9, 5, 6, 2, 4, 9, 4, 6, 5, 5, 2, 5, 4, 0, 4, 6, 5, 1, 6, 7, 5, 6, 4, 6, 5, 5, 5, 2, 3, 5, 6, 5, 6, 4, 6, 6, 5, 5, 2, 5, 2, 5, 5, 4, 5, 6, 6, 5, 0, 5, 6, 5, 5, 4, 2, 0, 5, 6, 0, 5, 6, 6, 2, 9, 2, 6, 5, 4, 2, 7, 3, 4, 5, 4, 0, 9, 4, 5, 6, 3, 5, 4, 0, 0, 5, 6, 6, 6, 6, 6, 6, 4, 4, 2, 5, 5, 8, 6, 2, 6, 6, 2, 5, 3, 5, 6, 8, 0, 6, 6, 5, 0, 6, 6, 4, 6, 0, 1, 0, 8, 4, 0, 2, 1, 7, 5, 5, 6, 5, 2, 4, 3, 6, 0, 5, 6, 6, 5, 6, 5, 2, 7, 4, 6, 2, 5, 2, 5, 8, 6, 6, 5, 6, 4, 5, 6, 6, 6, 5, 6, 6, 2, 5, 5, 5, 6, 0, 4, 5, 6, 5, 4, 4, 5, 6, 0, 4, 3, 6, 9, 5, 6, 5, 0, 6, 5, 2, 1, 6, 2, 6, 3, 8, 5, 1, 3, 5, 8, 6, 5, 2, 0, 6, 5, 5, 6, 6, 4, 6, 6, 5, 5, 5, 5, 5, 5, 6, 2, 2, 3, 5, 4, 0, 4, 9, 6, 5, 2, 6, 6, 5, 6, 6, 6, 5, 6, 5, 5, 2, 7, 0, 5, 5, 6, 5, 2, 5, 6, 7, 6, 6, 2, 1, 3, 8, 6, 5, 2, 4, 5, 6, 6, 2, 5, 2, 6, 2, 6, 6, 5, 6, 6, 3, 6, 5, 5, 6, 5, 6, 5, 1, 5, 4, 1, 6, 5, 5, 2, 5, 0, 5, 5, 2, 9, 5, 5, 5, 6, 5, 5, 8, 4, 6, 5, 4, 6, 5, 5, 3, 2, 6, 4, 0, 6, 6, 2, 6, 4, 5, 5, 9, 7, 6, 6, 6, 2, 5, 5, 2, 8, 4, 3, 4, 3, 5, 6, 4, 5, 0, 7, 5, 5, 0, 6, 5, 0, 2, 5, 6, 5, 6, 2, 9, 6, 5, 4, 5, 6, 6, 6, 6, 5, 5, 8, 4, 6, 6, 6, 0, 2, 5, 5, 6, 5, 5, 5, 5, 6, 0, 6, 5, 6, 6, 5, 6, 6, 2, 6, 0, 5, 2, 6, 5, 5, 4, 2, 6, 5, 6, 3, 5, 5, 5, 6, 6, 4, 3, 2, 6, 6, 6, 0, 8, 3, 4, 2, 6, 2, 6, 6, 4, 5, 2, 6, 4, 4, 6, 9, 5, 6, 5, 0, 4, 5, 5, 5, 0, 6, 6, 5, 6, 5, 4, 5, 6, 4, 5, 5, 6, 2, 5, 3, 5, 4, 0, 6, 7, 5, 2, 6, 5, 8, 6, 5, 5, 2, 5, 5, 2, 5, 6, 4, 1, 5, 5, 6, 6, 6, 5, 2, 6, 4, 6, 6, 3, 5, 4, 2, 0, 0, 6, 9, 6, 6, 6, 2, 6, 6, 4, 6, 5, 5, 7, 2, 6, 6, 5, 9, 5, 6, 2, 5, 5, 6, 8, 5, 7, 5, 6, 6, 5, 0, 4, 5, 8, 4, 5, 0, 2, 6, 5, 4, 9, 7, 5, 6, 6, 4, 3, 5, 4, 6, 6, 3, 3, 6, 5, 5, 6, 6, 5, 0, 5, 5, 2, 0, 8, 6, 6, 6, 6, 6, 5, 5, 5, 2, 9, 0, 6, 5, 5, 4, 6, 6, 0, 2, 8, 1, 5, 2, 4, 6, 5, 5, 3, 6, 4, 8, 6, 5, 0, 6, 8, 6, 5, 4, 6, 2, 5, 6, 2, 4, 5, 6, 5, 4, 6, 5, 7, 6, 0, 5, 5, 4, 6, 6, 6, 8, 6, 9, 6, 4, 5, 4, 6, 0, 6, 5, 5, 6, 5, 6, 6, 5, 0, 5, 5, 2, 4, 5, 6, 6, 6, 5, 5, 0, 6, 4, 5, 9, 8, 6, 6, 4, 6, 1, 6, 5, 2, 5, 5, 6, 4, 4, 6, 6, 6, 6, 6, 7, 6, 5, 6, 8, 3, 1, 5, 6, 4, 0, 5, 5, 5, 2, 6, 5, 7, 6, 6, 2, 2, 4, 5, 6, 5, 1, 6, 5, 5, 4, 0, 3, 2, 6, 2, 2, 1, 6, 5, 5, 6, 3, 5, 7, 6, 6, 5, 2, 4, 6, 5, 2, 6, 2, 3, 0, 7, 6, 5, 5, 2, 5, 4, 5, 5, 6, 5, 7, 6, 5, 3, 5, 5, 5, 5, 6, 6, 8, 9, 6, 6, 5, 5, 5, 0, 6, 5, 5, 4, 6, 5, 3, 1, 6, 6, 6, 2, 5, 6, 6, 6, 7, 6, 1, 5, 2, 6, 6, 0, 4, 6, 4, 6, 5, 5, 5, 9, 9, 4, 6, 6, 4, 5, 5, 7, 6, 4, 6, 4, 6, 9, 4, 2, 0, 2, 6, 6, 6, 4, 4, 6, 6, 5, 3, 5, 6, 2, 0, 5, 5, 9, 6, 2, 0, 0, 6, 6, 7, 4, 6, 6, 0, 6, 6, 3, 6, 5, 9, 6, 2, 4, 4, 4, 7, 5, 5, 6, 2, 5, 8, 1, 5, 0, 6, 5, 5, 1, 5, 8, 6, 6, 0, 7, 5, 6, 5, 5, 6, 2, 8, 2, 5, 6, 7, 4, 2, 6, 6, 6, 3, 5, 0, 5, 5, 6, 4, 6, 0, 4, 5, 5, 5, 5, 5, 8, 6, 3, 4, 2, 6, 4, 6, 5, 2, 6, 5, 2, 6, 8, 5, 0, 5, 9, 6, 4, 4, 6, 5, 7, 9, 0, 5, 6, 5, 8, 5, 5, 5, 6, 6, 9, 7, 5, 0, 5, 0, 6, 5, 5, 5, 5, 5, 5, 1, 6, 4, 4, 2, 4, 7, 2, 4, 9, 2, 2, 4, 6, 1, 0, 4, 6, 4, 3, 3, 6, 6, 3, 5, 2, 9, 2, 6, 6, 8, 0, 2, 6, 2, 4, 1, 5, 5, 0, 5, 8, 4, 5, 6, 9, 0, 4, 5, 2, 6, 5, 4, 3, 5, 5, 6, 5, 6, 6, 2, 0, 6, 6, 6, 6, 5, 6, 7, 2, 2, 6, 2, 6, 5, 6, 5, 2, 5, 6, 5, 8, 5, 0, 3, 5, 6, 5, 6, 2, 2, 5, 6, 6, 5, 2, 6, 5, 4, 5, 4, 4, 6, 7, 6, 4, 5, 5, 7, 4, 6, 2, 5, 3, 6, 6, 2, 5, 5, 6, 6, 6, 7, 6, 6, 4, 6, 5, 5, 5, 6, 6, 6, 5, 6, 5, 6, 6, 5, 0, 5, 6, 3, 0, 5, 5, 6, 2, 6, 6, 6, 7, 5, 5, 3, 4, 4, 5, 5, 5, 0, 6, 6, 7, 6, 6, 4, 7, 5, 5, 5, 5, 7, 7, 1, 7, 6, 8, 5, 5, 6, 5, 8, 2, 7, 3, 0, 5, 5, 8, 6, 2, 1, 6, 6, 4, 1, 5, 1, 5, 6, 5, 5, 6, 5, 4, 2, 5, 4, 5, 7, 5, 6, 2, 6, 4, 6, 4, 5, 5, 6, 3, 5, 5, 5, 0, 5, 6, 5, 5, 5, 5, 2, 7, 1, 0, 6, 6, 5, 5, 5, 6, 6, 2, 6, 1, 7, 5, 5, 5, 6, 6, 7, 3, 4, 6, 2, 6, 8, 5, 4, 3, 7, 6, 2, 5, 6, 5, 6, 5, 6, 6, 5, 4, 7, 0, 9, 6, 5, 6, 6, 5, 6, 6, 3, 4, 0, 5, 5, 0, 4, 5, 5, 6, 6, 2, 1, 2, 2, 6, 3, 5, 6, 9, 3, 5, 5, 5, 6, 5, 4, 4, 8, 7, 6, 5, 0, 7, 5, 6, 2, 2, 6, 6, 7, 6, 6, 9, 5, 6, 0, 6, 6, 9, 6, 6, 6, 2, 5, 4, 5, 6, 5, 5, 5, 2, 6, 6, 2, 6, 6, 1, 5, 6, 4, 6, 5, 6, 5, 4, 8, 4, 1, 5, 5, 6, 6, 6, 7, 1, 6, 0, 3, 6, 4, 5, 6, 6, 0, 5, 5, 6, 2, 2, 5, 1, 6, 6, 0, 6, 6, 2, 4, 7, 6, 9, 5, 5, 6, 5, 9, 3, 3, 3, 0, 2, 5, 6, 9, 8, 2, 6, 4, 4, 4, 6, 5, 6, 5, 1, 6, 5, 6, 9, 5, 5, 6, 5, 8, 1, 2, 3, 7, 6, 2, 5, 2, 4, 6, 6, 2, 2, 2, 5, 6, 6, 5, 6, 5, 5, 5, 3, 6, 5, 4, 2, 3, 4, 6, 7, 6, 1, 6, 5, 2, 1, 7, 8, 5, 2, 5, 5, 5, 7, 6, 6, 5, 7, 6, 6, 8, 2, 5, 6, 5, 5, 0, 3, 6, 5, 5, 4, 6, 5, 6, 3, 5, 4, 2, 5, 4, 5, 5, 4, 5, 6, 6, 2, 0, 3, 8, 6, 4, 6, 5, 5, 6, 6, 5, 0, 6, 5, 3, 5, 5, 5, 4, 5, 5, 4, 5, 6, 6, 2, 5, 2, 0, 6, 5, 7, 5, 5, 6, 6, 6, 5, 6, 1, 2, 6, 6, 6, 5, 6, 6, 5, 8, 6, 2, 2, 8, 2, 6, 3, 2, 3, 1, 1, 5, 3, 5, 6, 5, 5, 6, 5, 6, 2, 5, 0, 5, 2, 2, 6, 5, 5, 6, 1, 6, 6, 3, 0, 2, 5, 7, 5, 2, 5, 6, 4, 2, 6, 0, 5, 6, 5, 4, 0, 0, 2, 6, 2, 2, 2, 6, 5, 2, 3, 7, 5, 2, 6, 5, 4, 5, 3, 8, 7, 5, 5, 3, 6, 2, 3, 5, 4, 5, 2, 2, 3, 5, 2, 6, 5, 5, 6, 6, 2, 6, 3, 6, 5, 5, 5, 5, 5, 2, 5, 5, 2, 5, 5, 6, 4, 5, 2, 6, 4, 5, 3, 4, 6, 4, 6, 6, 6, 9, 2, 7, 6, 5, 5, 6, 2, 8, 6, 5, 5, 5, 5, 6, 2, 3, 3, 4, 6, 0, 5, 6, 5, 5, 6, 7, 1, 2, 6, 5, 6, 2, 2, 5, 2, 7, 8, 5, 3, 5, 6, 1, 0, 6, 5, 4, 5, 2, 5, 6, 5, 2, 5, 5, 2, 6, 4, 6, 7, 4, 5, 5, 8, 5, 0, 6, 6, 6, 6, 6, 6, 9, 7, 6, 5, 6, 6, 5, 2, 7, 6, 6, 5, 5, 2, 2, 5, 0, 2, 2, 5, 7, 5, 6, 2, 6, 9, 6, 6, 5, 4, 6, 3, 7, 2, 7, 6, 5, 0, 2, 5, 5, 6, 4, 6, 5, 4, 6, 6, 5, 6, 4, 6, 5, 4, 0, 8, 6, 7, 8, 6, 5, 1, 6, 5, 1, 5, 5, 4, 3, 6, 2, 5, 1, 2, 6, 7, 6, 0, 4, 6, 5, 6, 5, 5, 4, 0, 5, 5, 5, 9, 6, 5, 1, 6, 6, 5, 4, 3, 5, 0, 5, 2, 2, 7, 6, 6, 6, 6, 6, 0, 5, 6, 6, 7, 0, 5, 5, 4, 0, 5, 5, 7, 5, 5, 2, 0, 9, 0, 6, 6, 0, 5, 1, 0, 6, 6, 5, 7, 4, 5, 5, 5, 6, 6, 3, 2, 0, 5, 6, 4, 5, 6, 0, 4, 1, 5, 6, 6, 0, 2, 6, 4, 6, 2, 2, 2, 4, 4, 5, 3, 6, 6, 2, 5, 5, 6, 6, 3, 5, 5, 6, 0, 2, 4, 0, 5, 4, 0, 0, 6, 6, 7, 6, 6, 7, 2, 6, 0, 4, 5, 5, 5, 4, 5, 6, 6, 6, 6, 4, 5, 0, 2, 4, 2, 2, 7, 9, 9, 4, 2, 5, 6, 4, 9, 4, 6, 9, 6, 5, 5, 5, 0, 0, 6, 6, 6, 5, 8, 4, 6, 0, 6, 6, 0, 6, 5, 4, 4, 6, 5, 5, 0, 6, 6, 5, 7, 4, 2, 5, 5, 4, 5, 8, 6, 2, 6, 5, 0, 6, 8, 5, 5, 8, 6, 0, 6, 5, 7, 5, 4, 9, 5, 4, 4, 2, 6, 2, 5, 7, 5, 6, 2, 6, 7, 5, 4, 5, 2, 6, 5, 5, 5, 9, 2, 5, 5, 6, 5, 6, 6, 4, 5, 6, 6, 4, 5, 5, 6, 1, 6, 5, 4, 6, 5, 5, 5, 5, 5, 6, 6, 0, 6, 5, 6, 2, 5, 7, 4, 5, 7, 9, 5, 6, 6, 5, 6, 5, 5, 7, 5, 4, 6, 4, 5, 6, 0, 6, 3, 7, 6, 5, 3, 5, 6, 6, 4, 5, 8, 6, 8, 5, 5, 2, 5, 6, 5, 2, 5, 6, 6, 6, 3, 6, 4, 1, 6, 5, 1, 5, 5, 4, 2, 5, 6, 3, 7, 6, 0, 7, 4, 5, 5, 8, 6, 0, 6, 4, 6, 1, 6, 4, 4, 5, 6, 2, 5, 6, 0, 5, 5, 3, 6, 5, 6, 5, 5, 5, 8, 6, 5, 5, 2, 5, 6, 6, 5, 5, 4, 5, 4, 3, 5, 0, 6, 5, 6, 5, 5, 2, 5, 6, 2, 5, 6, 5, 3, 5, 4, 6, 3, 2, 5, 0, 6, 6, 8, 5, 5, 6, 0, 5, 0, 3, 6, 2, 4, 5, 2, 3, 5, 6, 6, 6, 2, 5, 4, 5, 7, 8, 9, 6, 5, 5, 0, 1, 5, 8, 5, 5, 5, 0, 5, 4, 4, 4, 5, 4, 2, 5, 2, 0, 6, 6, 0, 2, 5, 0, 4, 4, 5, 8, 6, 2, 6, 6, 4, 5, 2, 8, 0, 5, 5, 6, 5, 5, 1, 3, 5, 5, 3, 4, 5, 7, 6, 6, 2, 5, 5, 5, 4, 4, 2, 5, 6, 2, 4, 6, 6, 6, 5, 5, 6, 6, 6, 5, 0, 7, 7, 4, 2, 6, 6, 0, 5, 6, 5, 0, 5, 3, 6, 5, 6, 6, 8, 6, 0, 2, 5, 5, 0, 4, 5, 6, 7, 8, 6, 9, 0, 5, 2, 4, 5, 5, 6, 9, 2, 5, 6, 5, 6, 5, 0, 5, 6, 5, 5, 6, 6, 2, 5, 4, 6, 0, 5, 4, 5, 0, 5, 6, 5, 5, 7, 7, 2, 5, 2, 1, 6, 0, 4, 5, 2, 5, 6, 1, 5, 5, 5, 6, 5, 5, 5, 4, 5, 6, 3, 2, 6, 6, 7, 0, 8, 2, 4, 2, 6, 5, 5, 5, 5, 0, 2, 0, 6, 2, 2, 4, 6, 7, 6, 6, 7, 5, 0, 5, 6, 6, 4, 6, 6, 6, 6, 1, 7, 5, 6, 2, 5, 6, 6, 6, 8, 8, 7, 6, 6, 5, 5, 6, 5, 5, 2, 8, 6, 4, 2, 6, 4, 6, 5, 4, 5, 7, 6, 2, 6, 5, 6, 4, 5, 5, 7, 5, 5, 2, 6, 6, 5, 5, 4, 5, 4, 1, 5, 0, 9, 2, 6, 3, 6, 6, 5, 0, 1, 6, 2, 5, 6, 6, 2, 4, 6, 6, 5, 5, 5, 6, 9, 5, 4, 7, 9, 6, 6, 0, 6, 7, 5, 3, 0, 4, 6, 6, 3, 5, 0, 6, 6, 9, 5, 5, 2, 6, 4, 5, 8, 7, 5, 6, 5, 6, 5, 2, 2, 6, 6, 1, 5, 5, 6, 6, 2, 7, 5, 0, 7, 6, 5, 0, 4, 5, 5, 1, 5, 5, 5, 5, 2, 4, 6, 6, 7, 5, 4, 8, 7, 2, 2, 2, 5, 5, 5, 5, 1, 4, 1, 2, 2, 4, 2, 5, 5, 5, 4, 3, 6, 6, 6, 6, 4, 7, 5, 6, 3, 5, 5, 4, 2, 7, 4, 4, 2, 7, 5, 4, 2, 0, 8, 0, 0, 6, 6, 6, 6, 3, 5, 6, 6, 3, 4, 3, 5, 4, 2, 4, 5, 6, 6, 5, 6, 5, 6, 6, 3, 0, 5, 2, 4, 6, 5, 7, 6, 5, 5, 5, 2, 4, 2, 5, 2, 4, 5, 4, 6, 0, 6, 5, 4, 5, 8, 6, 6, 5, 6, 6, 5, 5, 5, 5, 6, 4, 6, 5, 5, 5, 0, 4, 8, 6, 5, 2, 5, 4, 2, 9, 7, 7, 5, 5, 5, 7, 8, 6, 2, 5, 5, 5, 4, 5, 5, 5, 0, 6, 4, 6, 1, "
          ]
        }
      ],
      "source": [
        "for i in test_Y[test_Y != y_pred]: \n",
        "    print(i, end=', ') "
      ]
    },
    {
      "attachments": {},
      "cell_type": "markdown",
      "metadata": {},
      "source": [
        "Giá trị được dự đoán của các lớp bị dự đoán sai"
      ]
    },
    {
      "cell_type": "code",
      "execution_count": 118,
      "metadata": {},
      "outputs": [
        {
          "name": "stdout",
          "output_type": "stream",
          "text": [
            "0, 1, 8, 4, 9, 2, 9, 4, 4, 2, 7, 9, 7, 2, 3, 4, 3, 9, 4, 7, 9, 4, 3, 4, 4, 6, 4, 7, 3, 2, 8, 7, 4, 9, 3, 7, 2, 9, 4, 2, 0, 4, 2, 3, 2, 4, 6, 4, 4, 8, 8, 7, 9, 4, 2, 2, 9, 7, 0, 4, 4, 7, 9, 4, 7, 9, 9, 9, 7, 7, 9, 3, 9, 0, 4, 2, 4, 2, 4, 4, 4, 7, 9, 7, 0, 3, 2, 7, 9, 2, 2, 0, 4, 3, 4, 7, 3, 7, 2, 4, 4, 9, 7, 4, 4, 2, 0, 0, 9, 7, 2, 7, 3, 4, 4, 4, 0, 9, 9, 2, 4, 9, 9, 3, 3, 4, 7, 2, 4, 8, 9, 8, 4, 9, 8, 2, 2, 0, 4, 4, 7, 9, 7, 7, 9, 3, 0, 4, 7, 7, 9, 0, 0, 4, 4, 4, 2, 4, 0, 4, 9, 3, 9, 4, 2, 4, 7, 0, 9, 4, 2, 2, 2, 3, 7, 7, 0, 2, 4, 2, 4, 4, 7, 7, 9, 3, 2, 2, 7, 2, 4, 7, 3, 9, 9, 7, 2, 2, 4, 3, 9, 7, 2, 2, 8, 7, 4, 0, 9, 9, 4, 4, 2, 9, 2, 9, 2, 2, 4, 4, 7, 2, 3, 4, 7, 3, 2, 8, 9, 4, 9, 9, 2, 0, 8, 7, 9, 0, 7, 8, 2, 7, 0, 9, 0, 9, 7, 9, 7, 3, 7, 4, 4, 9, 2, 7, 7, 2, 7, 6, 0, 4, 3, 6, 2, 7, 8, 4, 4, 7, 9, 3, 3, 4, 0, 2, 7, 9, 6, 0, 4, 4, 3, 7, 3, 3, 7, 0, 2, 3, 0, 2, 4, 7, 4, 2, 9, 7, 4, 4, 2, 4, 2, 4, 2, 7, 4, 9, 2, 7, 4, 9, 4, 7, 2, 4, 7, 7, 9, 7, 3, 8, 9, 2, 2, 0, 3, 0, 7, 2, 7, 9, 4, 9, 7, 2, 9, 0, 3, 2, 0, 0, 2, 4, 0, 7, 4, 3, 0, 9, 4, 9, 7, 4, 4, 2, 0, 7, 4, 0, 9, 2, 3, 2, 2, 2, 9, 7, 9, 7, 9, 9, 4, 0, 9, 2, 2, 2, 9, 9, 7, 8, 9, 3, 7, 3, 9, 4, 4, 7, 7, 4, 3, 3, 7, 4, 9, 3, 9, 9, 7, 4, 9, 7, 8, 4, 9, 4, 3, 7, 2, 4, 3, 9, 9, 2, 3, 0, 9, 9, 2, 8, 2, 4, 9, 7, 0, 4, 8, 0, 4, 7, 7, 3, 9, 3, 7, 7, 9, 0, 0, 7, 4, 2, 4, 0, 0, 0, 8, 9, 4, 7, 4, 7, 2, 4, 4, 7, 4, 2, 7, 0, 6, 0, 3, 2, 3, 4, 9, 3, 0, 7, 9, 8, 8, 9, 4, 7, 9, 2, 7, 2, 9, 0, 7, 2, 7, 4, 9, 2, 3, 7, 7, 2, 3, 6, 9, 0, 2, 8, 4, 9, 0, 3, 0, 3, 7, 3, 9, 4, 9, 8, 2, 7, 4, 4, 2, 9, 7, 4, 2, 4, 7, 9, 4, 7, 7, 0, 3, 2, 4, 0, 3, 4, 4, 7, 4, 7, 2, 9, 9, 9, 7, 6, 4, 2, 4, 3, 4, 0, 7, 2, 4, 9, 7, 7, 2, 0, 4, 9, 0, 7, 7, 4, 9, 3, 4, 4, 3, 9, 3, 2, 0, 4, 6, 2, 8, 2, 4, 0, 4, 7, 3, 9, 7, 4, 3, 4, 7, 0, 9, 0, 9, 0, 9, 2, 4, 4, 9, 7, 7, 9, 2, 6, 6, 7, 2, 4, 9, 7, 4, 7, 2, 3, 2, 2, 7, 3, 4, 9, 7, 4, 2, 3, 9, 9, 7, 4, 4, 8, 0, 9, 2, 2, 4, 4, 9, 7, 4, 9, 4, 7, 7, 2, 9, 0, 4, 7, 3, 7, 0, 7, 9, 2, 4, 7, 0, 3, 3, 9, 0, 2, 4, 7, 4, 4, 7, 2, 4, 9, 0, 3, 9, 2, 8, 7, 3, 7, 4, 0, 9, 2, 3, 3, 7, 4, 3, 0, 2, 2, 4, 2, 2, 4, 7, 9, 2, 2, 8, 2, 4, 4, 7, 2, 7, 2, 9, 8, 4, 2, 9, 3, 0, 2, 2, 4, 3, 4, 9, 3, 2, 3, 4, 2, 9, 9, 9, 0, 7, 4, 2, 4, 2, 3, 9, 4, 0, 9, 4, 9, 4, 9, 3, 4, 4, 7, 4, 7, 4, 4, 0, 7, 2, 2, 9, 4, 8, 4, 7, 0, 2, 4, 9, 9, 7, 0, 3, 2, 7, 2, 9, 3, 2, 7, 4, 3, 8, 1, 4, 7, 9, 2, 9, 6, 2, 7, 4, 2, 0, 4, 0, 0, 7, 7, 3, 0, 9, 7, 8, 9, 8, 3, 4, 7, 9, 0, 0, 3, 4, 4, 7, 9, 7, 9, 7, 7, 0, 4, 6, 2, 7, 2, 3, 2, 7, 0, 9, 6, 4, 4, 7, 0, 0, 4, 7, 0, 8, 7, 4, 9, 3, 9, 7, 2, 9, 4, 7, 2, 9, 2, 0, 4, 3, 0, 3, 0, 9, 4, 2, 9, 4, 4, 4, 7, 4, 4, 4, 8, 4, 9, 0, 4, 0, 4, 7, 9, 3, 7, 0, 7, 0, 9, 3, 2, 2, 7, 7, 4, 9, 2, 7, 9, 4, 7, 7, 7, 7, 2, 9, 7, 3, 2, 2, 7, 3, 4, 9, 7, 4, 4, 4, 2, 1, 0, 3, 4, 4, 2, 7, 7, 7, 9, 0, 4, 3, 4, 7, 9, 4, 7, 2, 0, 3, 0, 7, 4, 2, 9, 3, 9, 7, 7, 4, 0, 9, 4, 6, 9, 0, 9, 2, 4, 7, 0, 7, 2, 7, 2, 0, 0, 3, 7, 7, 4, 2, 3, 0, 0, 8, 4, 7, 7, 4, 7, 9, 7, 9, 4, 3, 4, 7, 4, 2, 9, 0, 4, 4, 0, 3, 9, 4, 4, 9, 9, 2, 8, 2, 7, 2, 1, 9, 9, 9, 0, 0, 2, 8, 4, 2, 2, 0, 8, 7, 0, 3, 4, 4, 4, 8, 4, 2, 9, 4, 4, 3, 3, 4, 7, 7, 0, 9, 3, 2, 9, 9, 7, 3, 4, 0, 9, 8, 7, 2, 9, 2, 8, 9, 7, 0, 4, 7, 6, 7, 2, 3, 8, 9, 9, 4, 0, 7, 7, 4, 9, 7, 4, 7, 9, 4, 7, 4, 3, 3, 7, 9, 4, 0, 4, 9, 0, 0, 2, 0, 3, 6, 9, 3, 4, 3, 3, 0, 7, 4, 0, 4, 4, 0, 4, 1, 3, 9, 9, 9, 4, 4, 4, 7, 7, 9, 2, 4, 9, 7, 4, 7, 9, 9, 7, 2, 4, 9, 3, 3, 9, 3, 8, 9, 3, 4, 0, 9, 2, 7, 9, 7, 2, 0, 3, 0, 9, 2, 0, 8, 4, 0, 1, 8, 7, 8, 3, 7, 3, 7, 9, 8, 3, 2, 4, 0, 0, 0, 0, 9, 7, 7, 4, 7, 3, 0, 9, 7, 2, 0, 2, 3, 4, 7, 3, 9, 4, 2, 4, 3, 7, 0, 0, 3, 7, 4, 9, 2, 0, 7, 4, 9, 3, 2, 4, 7, 4, 4, 3, 7, 0, 9, 3, 4, 9, 9, 0, 3, 9, 9, 3, 4, 0, 4, 7, 0, 7, 8, 2, 7, 3, 8, 2, 4, 9, 9, 0, 7, 4, 0, 7, 8, 9, 7, 4, 2, 7, 0, 2, 4, 9, 9, 3, 4, 1, 7, 7, 9, 2, 4, 3, 0, 4, 0, 9, 4, 7, 7, 0, 2, 2, 0, 4, 2, 4, 2, 9, 0, 7, 4, 1, 1, 2, 9, 0, 2, 3, 9, 7, 9, 0, 4, 7, 9, 0, 8, 4, 4, 2, 9, 0, 0, 2, 0, 7, 9, 2, 8, 2, 4, 3, 4, 4, 0, 4, 7, 7, 0, 4, 7, 9, 1, 4, 7, 4, 3, 4, 9, 4, 4, 4, 4, 3, 9, 8, 9, 9, 6, 7, 2, 9, 7, 4, 9, 9, 0, 9, 2, 9, 9, 7, 9, 4, 0, 3, 7, 4, 4, 7, 7, 9, 1, 4, 9, 7, 2, 2, 7, 2, 2, 0, 3, 3, 4, 9, 0, 2, 3, 9, 3, 3, 7, 3, 0, 2, 3, 3, 0, 2, 4, 9, 7, 9, 7, 7, 3, 4, 4, 3, 7, 7, 9, 4, 2, 4, 2, 2, 7, 2, 4, 2, 6, 4, 0, 4, 6, 2, 4, 2, 7, 1, 9, 0, 3, 1, 7, 7, 7, 4, 4, 3, 3, 4, 2, 9, 2, 2, 0, 3, 4, 0, 0, 0, 9, 7, 4, 4, 3, 2, 3, 9, 7, 9, 8, 4, 7, 3, 2, 9, 8, 3, 9, 9, 3, 9, 7, 4, 0, 3, 9, 9, 4, 7, 9, 2, 4, 7, 4, 9, 0, 9, 2, 4, 4, 8, 3, 0, 9, 2, 7, 7, 0, 2, 0, 3, 3, 9, 7, 0, 9, 9, 7, 2, 1, 3, 4, 3, 2, 4, 9, 3, 0, 7, 4, 0, 7, 7, 3, 9, 7, 4, 2, 2, 0, 9, 9, 7, 1, 7, 2, 7, 3, 7, 7, 9, 0, 4, 7, 9, 7, 2, 9, 3, 4, 7, 7, 7, 2, 9, 9, 3, 4, 2, 2, 4, 3, 9, 8, 2, 7, 4, 4, 1, 4, 3, 2, 2, 0, 2, 6, 0, 2, 0, 6, 8, 4, 7, 4, 2, 2, 4, 3, 4, 0, 4, 2, 4, 7, 7, 3, 7, 2, 3, 7, 4, 7, 3, 2, 9, 3, 4, 9, 2, 0, 9, 7, 3, 9, 4, 0, 8, 8, 0, 3, 0, 4, 9, 4, 9, 8, 8, 3, 0, 0, 7, 4, 9, 4, 7, 2, 7, 4, 7, 3, 0, 9, 0, 7, 4, 4, 4, 9, 0, 3, 9, 8, 4, 9, 2, 9, 2, 3, 0, 9, 0, 2, 9, 7, 9, 2, 2, 4, 9, 4, 2, 2, 4, 9, 7, 0, 3, 4, 9, 4, 0, 2, 2, 7, 9, 7, 2, 3, 4, 9, 0, 9, 4, 0, 7, 4, 7, 4, 0, 6, 9, 9, 4, 4, 4, 8, 4, 9, 9, 9, 0, 3, 3, 7, 7, 7, 3, 0, 0, 9, 0, 2, 2, 9, 9, 7, 7, 9, 9, 9, 0, 9, 4, 7, 7, 7, 2, 9, 3, 8, 9, 1, 8, 9, 9, 3, 4, 4, 0, 2, 4, 8, 0, 7, 2, 9, 3, 7, 7, 4, 9, 3, 6, 7, 3, 8, 9, 7, 4, 4, 4, 2, 4, 2, 7, 9, 2, 4, 9, 7, 7, 1, 7, 4, 9, 7, 9, 9, 4, 9, 3, 4, 0, 8, 9, 7, 7, 4, 4, 4, 4, 0, 9, 7, 7, 9, 4, 4, 9, 2, 8, 4, 4, 2, 2, 7, 2, 2, 9, 4, 4, 9, 4, 7, 0, 9, 0, 2, 9, 3, 9, 3, 7, 2, 7, 0, 0, 9, 2, 3, 0, 2, 3, 9, 9, 3, 2, 7, 9, 2, 4, 4, 3, 4, 8, 1, 4, 7, 0, 7, 4, 7, 7, 7, 2, 9, 1, 1, 4, 9, 8, 9, 3, 9, 9, 0, 0, 4, 4, 0, 9, 2, 2, 7, 9, 2, 3, 2, 4, 7, 4, 3, 2, 4, 7, 8, 9, 4, 7, 9, 9, 4, 0, 3, 0, 4, 4, 2, 3, 0, 3, 0, 7, 0, 7, 3, 3, 3, 2, 7, 9, 2, 4, 4, 9, 3, 2, 3, 0, 0, 3, 7, 3, 0, 8, 7, 7, 0, 1, 3, 7, 3, 0, 4, 3, 4, 2, 4, 2, 9, 4, 7, 9, 9, 0, 9, 5, 0, 4, 0, 3, 4, 9, 4, 7, 7, 4, 4, 3, 3, 3, 0, 7, 0, 9, 0, 0, 7, 0, 7, 7, 9, 4, 7, 2, 3, 4, 0, 9, 4, 4, 7, 4, 2, 3, 4, 0, 4, 4, 7, 2, 0, 9, 0, 7, 9, 9, 8, 4, 9, 2, 4, 2, 2, 4, 9, 3, 4, 4, 7, 4, 2, 9, 2, 7, 4, 7, 7, 7, 9, 4, 4, 9, 9, 4, 4, 7, 4, 9, 2, 7, 9, 8, 6, 2, 9, 7, 3, 0, 7, 2, 1, 9, 2, 4, 9, 3, 7, 7, 2, 7, 4, 0, 4, 6, 0, 3, 2, 3, 4, 9, 7, 0, 4, 9, 3, 4, 7, 0, 7, 7, 9, 2, 7, 7, 2, 7, 0, 2, 4, 7, 8, 3, 0, 7, 9, 8, 7, 4, 4, 0, 9, 0, 3, 4, 0, 2, 2, 9, 4, 0, 7, 3, 3, 4, 4, 2, 4, 8, 1, 4, 4, 2, 0, 7, 4, 7, 2, 8, 9, 4, 9, 4, 4, 7, 8, 9, 0, 4, 4, 9, 7, 0, 3, 4, 3, 0, 3, 4, 9, 9, 9, 4, 7, 0, 2, 4, 4, 3, 9, 2, 7, 3, 8, 3, 4, 4, 4, 4, 4, 4, 9, 4, 2, 9, 8, 4, 4, 7, 2, 7, 1, 2, 9, 7, 7, 0, 0, 4, 0, 9, 2, 7, 4, 0, 4, 7, 4, 4, 7, 9, 0, 8, 4, 2, 1, 2, 9, 7, 9, 7, 9, 4, 9, 7, 6, 7, 7, 2, 2, 7, 6, 0, 3, 7, 0, 2, 2, 3, 2, 4, 2, 7, 4, 9, 0, 7, 7, 0, 4, 3, 2, 7, 7, 9, 9, 4, 4, 4, 1, 2, 4, 3, 7, 0, 7, 9, 0, 9, 3, 4, 2, 7, 4, 4, 4, 9, 4, 9, 6, 9, 4, 9, 0, 3, 2, 0, 7, 2, 7, 0, 7, 0, 7, 4, 9, 7, 4, 4, 3, 4, 9, 2, 7, 7, 2, 7, 3, 4, 2, 4, 0, 0, 8, 7, 9, 4, 7, 4, 0, 7, 8, 9, 0, 2, 9, 7, 4, 4, 9, 3, 4, 4, 9, 9, 7, 4, 8, 4, 7, 0, 0, 9, 0, 0, 0, 9, 8, 9, 0, 7, 4, 4, 9, 9, 0, 3, 2, 9, 1, 4, 0, 9, 4, 3, 2, 9, 2, 8, 3, 4, 9, 3, 0, 7, 3, 0, 9, 3, 7, 7, 2, 0, 2, 4, 9, 0, 4, 0, 9, 4, 6, 2, 0, 9, 4, 7, 7, 2, 3, 9, 9, 9, 7, 2, 7, 0, 0, 4, 9, 2, 1, 8, 6, 7, 4, 4, 5, 0, 4, 3, 2, 4, 3, 9, 3, 4, 9, 3, 7, 7, 2, 3, 7, 7, 9, 7, 9, 4, 1, 7, 2, 1, 4, 6, 7, 3, 8, 4, 0, 7, 9, 2, 7, 9, 9, 4, 4, 0, 0, 3, 9, 4, 8, 7, 0, 4, 2, 0, 9, 4, 0, 3, 4, 2, 2, 4, 4, 3, 4, 2, 6, 9, 0, 4, 4, 4, 9, 9, 4, 2, 6, 8, 9, 4, 3, 4, 2, 2, 7, 3, 2, 2, 2, 4, 9, 4, 1, 9, 4, 2, 3, 1, 7, 7, 9, 2, 7, 2, 4, 4, 3, 2, 7, 3, 4, 3, 4, 8, 9, 7, 7, 2, 4, 7, 0, 2, 7, 2, 1, 7, 4, 9, 9, 7, 2, 8, 4, 8, 4, 7, 3, 3, 0, 3, 0, 3, 9, 2, 7, 2, 3, 4, 9, 9, 1, 2, 2, 7, 9, 2, 1, 7, 7, 8, 7, 7, 4, 4, 2, 7, 4, 0, 2, 7, 7, 2, 4, 3, 0, 9, 9, 7, 3, 7, 7, 2, 2, 4, 4, 4, 7, 9, 7, 4, 8, 4, 9, 9, 3, 7, 4, 2, 8, 9, 7, 7, 8, 7, 7, 0, 7, 0, 4, 2, 7, 0, 4, 6, 9, 9, 4, 2, 4, 8, 6, 2, 7, 9, 8, 9, 9, 0, 0, 3, 4, 7, 4, 4, 7, 9, 2, 7, 9, 7, 7, 0, 0, 9, 0, 9, 7, 9, 7, 3, 2, 2, 9, 4, 3, 4, 4, 9, 8, 9, 4, 7, 2, 0, 2, 7, 7, 0, 3, 9, 9, 4, 7, 0, 9, 4, 7, 4, 0, 4, 0, 2, 2, 0, 4, 9, 3, 9, 9, 2, 6, 9, 2, 4, 9, 0, 3, 9, 2, 9, 8, 0, 0, 3, 4, 1, 4, 3, 0, 3, 3, 9, 3, 4, 9, 4, 3, 7, 9, 4, 2, 7, 8, 7, 7, 7, 0, 4, 7, 7, 4, 7, 4, 2, 9, 7, 2, 7, 3, 0, 9, 1, 4, 7, 2, 9, 9, 4, 7, 8, 4, 9, 4, 9, 0, 9, 2, 2, 0, 0, 7, 2, 4, 4, 3, 7, 9, 0, 3, 7, 3, 1, 4, 4, 2, 7, 4, 0, 9, 2, 4, 3, 4, 9, 3, 7, 9, 7, 7, 0, 9, 7, 1, 4, 9, 7, 9, 9, 7, 6, 7, 0, 2, 3, 7, 2, 4, 9, 4, 3, 0, 2, 8, 4, 3, 6, 3, 2, 9, 3, 8, 4, 0, 4, 2, 9, 6, 3, 3, 7, 7, 4, 7, 9, 3, 4, 9, 9, 0, 2, 7, 9, 3, 0, 4, 9, 7, 9, 2, 2, 4, 9, 0, 4, 8, 8, 4, 4, 9, 7, 9, 8, 2, 7, 6, 9, 9, 2, 6, 0, 4, 8, 7, 2, 9, 3, 9, 0, 2, 9, 4, 3, 4, 3, 8, 4, 9, 7, 3, 3, 7, 4, 9, 7, 3, 7, 3, 7, 4, 3, 9, 7, 2, 7, 3, 9, 4, 9, 2, 7, 3, 7, 4, 7, 9, 2, 0, 8, 9, 3, 2, 3, 7, 3, 9, 3, 7, 0, 9, 9, 9, 9, 4, 9, 4, 2, 0, 6, 3, 9, 4, 7, 4, 4, 9, 9, 9, 2, 9, 9, 7, 2, 7, 4, 1, 0, 0, 2, 9, 2, 7, 4, 2, 6, 2, 7, 7, 9, 7, 4, 0, 3, 0, 4, 4, 3, 2, 9, 2, 4, 9, 7, 8, 9, 2, 0, 2, 2, 2, 4, 1, 2, 9, 7, 0, 4, 9, 4, 4, 2, 3, 3, 9, 2, 4, 9, 9, 0, 7, 7, 4, 2, 4, 2, 6, 8, 2, 4, 9, 2, 9, 9, 2, 0, 3, 9, 2, 0, 7, 9, 9, 7, 7, 4, 4, 2, 9, 9, 3, 9, 2, 2, 9, 3, 7, 4, 4, 0, 2, 4, 9, 1, 2, 0, 3, 9, 4, 4, 0, 2, 0, 3, 7, 9, 7, 0, 7, 9, 6, 9, 7, 2, 8, 4, 4, 9, 7, 1, 3, 2, 4, 4, 4, 9, 3, 0, 4, 7, 9, 7, 4, 0, 3, 9, 3, 9, 7, 2, 7, 8, 7, 4, 4, 4, 3, 2, 7, 7, 4, 4, 4, 9, 2, 6, 9, 3, 7, 2, 2, 7, 9, 0, 7, 9, 7, 7, 4, 3, 4, 4, 9, 8, 2, 2, 9, 4, 4, 4, 9, 9, 7, 9, 0, 2, 0, 4, 4, 8, 4, 7, 9, 7, 2, 0, 4, 2, 4, 2, 2, 9, 9, 2, 4, 7, 9, 2, 4, 9, 2, 2, 4, 9, 7, 2, 0, 4, 7, 3, 8, 3, 2, 4, 2, 4, 9, 3, 4, 0, 2, 0, 7, 3, 4, 3, 7, 0, 0, 9, 2, 8, 0, 0, 4, 6, 9, 4, 3, 4, 9, 9, 2, 7, 7, 7, 4, 3, 4, 7, 4, 2, 7, 3, 4, 8, 4, 7, 2, 9, 7, 4, 0, 9, 2, 3, 9, 9, 9, 7, 0, 3, 4, 9, 7, 7, 4, 3, 3, 2, 9, 8, 7, 3, 4, 7, 9, 9, 9, 9, 8, 9, 3, 3, 4, 9, 7, 7, 2, 7, 9, 9, 2, 2, 3, 2, 4, "
          ]
        }
      ],
      "source": [
        "for i in y_pred[test_Y != y_pred]: \n",
        "    print(i, end=', ') "
      ]
    },
    {
      "attachments": {},
      "cell_type": "markdown",
      "metadata": {},
      "source": [
        "Thống kê các lớp bị dự đoán sai và các giá trị được dự đoán cho lớp đó (Top 20)"
      ]
    },
    {
      "cell_type": "code",
      "execution_count": 119,
      "metadata": {},
      "outputs": [
        {
          "data": {
            "text/html": [
              "<div>\n",
              "<style scoped>\n",
              "    .dataframe tbody tr th:only-of-type {\n",
              "        vertical-align: middle;\n",
              "    }\n",
              "\n",
              "    .dataframe tbody tr th {\n",
              "        vertical-align: top;\n",
              "    }\n",
              "\n",
              "    .dataframe thead tr th {\n",
              "        text-align: left;\n",
              "    }\n",
              "</style>\n",
              "<table border=\"1\" class=\"dataframe\">\n",
              "  <thead>\n",
              "    <tr>\n",
              "      <th>actual</th>\n",
              "      <th colspan=\"2\" halign=\"left\">5</th>\n",
              "      <th colspan=\"2\" halign=\"left\">6</th>\n",
              "      <th>2</th>\n",
              "      <th>4</th>\n",
              "      <th>6</th>\n",
              "      <th>7</th>\n",
              "      <th>0</th>\n",
              "      <th>4</th>\n",
              "      <th>9</th>\n",
              "      <th>6</th>\n",
              "      <th>3</th>\n",
              "      <th>6</th>\n",
              "      <th colspan=\"2\" halign=\"left\">8</th>\n",
              "      <th>1</th>\n",
              "      <th>3</th>\n",
              "      <th colspan=\"2\" halign=\"left\">2</th>\n",
              "    </tr>\n",
              "    <tr>\n",
              "      <th>predict</th>\n",
              "      <th>7</th>\n",
              "      <th>9</th>\n",
              "      <th>4</th>\n",
              "      <th>0</th>\n",
              "      <th>4</th>\n",
              "      <th>2</th>\n",
              "      <th>2</th>\n",
              "      <th>9</th>\n",
              "      <th>3</th>\n",
              "      <th>3</th>\n",
              "      <th>7</th>\n",
              "      <th>3</th>\n",
              "      <th>0</th>\n",
              "      <th>8</th>\n",
              "      <th>3</th>\n",
              "      <th>7</th>\n",
              "      <th>3</th>\n",
              "      <th>4</th>\n",
              "      <th>8</th>\n",
              "      <th>0</th>\n",
              "    </tr>\n",
              "  </thead>\n",
              "  <tbody>\n",
              "    <tr>\n",
              "      <th>count</th>\n",
              "      <td>490</td>\n",
              "      <td>451</td>\n",
              "      <td>366</td>\n",
              "      <td>263</td>\n",
              "      <td>257</td>\n",
              "      <td>200</td>\n",
              "      <td>195</td>\n",
              "      <td>134</td>\n",
              "      <td>107</td>\n",
              "      <td>101</td>\n",
              "      <td>68</td>\n",
              "      <td>66</td>\n",
              "      <td>52</td>\n",
              "      <td>38</td>\n",
              "      <td>34</td>\n",
              "      <td>30</td>\n",
              "      <td>29</td>\n",
              "      <td>29</td>\n",
              "      <td>25</td>\n",
              "      <td>25</td>\n",
              "    </tr>\n",
              "  </tbody>\n",
              "</table>\n",
              "</div>"
            ],
            "text/plain": [
              "actual     5         6         2    4    6    7    0    4   9   6   3   6   8  \\\n",
              "predict    7    9    4    0    4    2    2    9    3    3   7   3   0   8   3   \n",
              "count    490  451  366  263  257  200  195  134  107  101  68  66  52  38  34   \n",
              "\n",
              "actual        1   3   2      \n",
              "predict   7   3   4   8   0  \n",
              "count    30  29  29  25  25  "
            ]
          },
          "execution_count": 119,
          "metadata": {},
          "output_type": "execute_result"
        }
      ],
      "source": [
        "df = pd.DataFrame([[1]*len(test_Y[test_Y != y_pred]),test_Y[test_Y != y_pred],\n",
        "                   y_pred[test_Y != y_pred]], index=['count','actual','predict']).transpose()\n",
        "df = df.groupby(['actual','predict']).sum('count')\n",
        "df = df.sort_values('count', ascending=False)\n",
        "df.head(20).transpose()"
      ]
    },
    {
      "attachments": {},
      "cell_type": "markdown",
      "metadata": {},
      "source": [
        "Điểm số accuracy"
      ]
    },
    {
      "cell_type": "code",
      "execution_count": 120,
      "metadata": {},
      "outputs": [
        {
          "data": {
            "text/plain": [
              "0.6733"
            ]
          },
          "execution_count": 120,
          "metadata": {},
          "output_type": "execute_result"
        }
      ],
      "source": [
        "accuracy(y_pred, test_Y)"
      ]
    },
    {
      "attachments": {},
      "cell_type": "markdown",
      "metadata": {},
      "source": [
        "#### Softmax regression with mini-batch"
      ]
    },
    {
      "attachments": {},
      "cell_type": "markdown",
      "metadata": {},
      "source": [
        "Các lớp được dự đoán"
      ]
    },
    {
      "cell_type": "code",
      "execution_count": 121,
      "metadata": {},
      "outputs": [
        {
          "data": {
            "text/plain": [
              "array([0, 1, 2, ..., 8, 8, 2], dtype=int64)"
            ]
          },
          "execution_count": 121,
          "metadata": {},
          "output_type": "execute_result"
        }
      ],
      "source": [
        "y_pred = predict(W_mini, test_X)\n",
        "y_pred"
      ]
    },
    {
      "attachments": {},
      "cell_type": "markdown",
      "metadata": {},
      "source": [
        "Những lớp bị dự đoán sai"
      ]
    },
    {
      "cell_type": "code",
      "execution_count": 122,
      "metadata": {},
      "outputs": [
        {
          "name": "stdout",
          "output_type": "stream",
          "text": [
            "3, 2, 4, 6, 7, 5, 8, 6, 2, 0, 6, 4, 2, 4, 2, 6, 3, 0, 2, 0, 8, 4, 2, 0, 8, 2, 4, 9, 0, 0, 0, 7, 4, 2, 6, 5, 4, 3, 4, 7, 6, 6, 6, 0, 4, 6, 6, 6, 2, 2, 0, 6, 5, 9, 5, 4, 2, 4, 0, 4, 2, 6, 6, 6, 2, 8, 2, 3, 3, 8, 0, 4, 6, 1, 4, 2, 6, 5, 6, 4, 2, 0, 7, 6, 6, 6, 8, 5, 6, 6, 6, 6, 7, 4, 6, 9, 4, 4, 4, 5, 7, 4, 3, 4, 2, 6, 2, 6, 4, 6, 3, 2, 6, 9, 0, 6, 7, 6, 4, 2, 5, 6, 4, 0, 6, 6, 2, 6, 3, 4, 3, 6, 4, 4, 2, 7, 5, 0, 2, 7, 2, 6, 6, 7, 6, 6, 6, 7, 6, 6, 6, 6, 2, 7, 2, 2, 2, 3, 0, 1, 8, 5, 5, 6, 7, 0, 6, 6, 7, 6, 6, 5, 9, 7, 2, 0, 6, 9, 0, 4, 5, 1, 6, 6, 9, 7, 2, 2, 2, 9, 6, 4, 6, 6, 3, 2, 6, 2, 2, 0, 4, 6, 6, 3, 6, 0, 6, 6, 2, 9, 4, 1, 4, 4, 6, 2, 7, 6, 4, 7, 0, 3, 4, 1, 7, 6, 9, 4, 6, 2, 2, 6, 3, 6, 4, 5, 6, 7, 2, 7, 4, 0, 6, 5, 6, 6, 5, 6, 8, 7, 6, 2, 0, 2, 0, 2, 0, 6, 0, 6, 5, 6, 6, 7, 2, 3, 7, 6, 0, 2, 4, 4, 7, 1, 8, 6, 8, 7, 3, 5, 2, 6, 3, 2, 2, 4, 6, 4, 0, 0, 5, 0, 6, 4, 3, 4, 0, 3, 3, 5, 0, 0, 5, 6, 6, 6, 9, 4, 2, 8, 6, 2, 6, 2, 3, 0, 8, 0, 6, 6, 3, 0, 0, 0, 0, 4, 0, 2, 7, 3, 2, 3, 0, 6, 6, 7, 3, 4, 3, 2, 5, 8, 6, 4, 4, 6, 6, 4, 4, 7, 0, 0, 7, 2, 2, 6, 3, 3, 6, 2, 3, 0, 0, 6, 2, 3, 0, 9, 6, 2, 4, 6, 2, 7, 6, 6, 7, 6, 6, 3, 0, 4, 3, 6, 6, 3, 4, 5, 6, 6, 2, 1, 1, 6, 7, 4, 2, 0, 2, 9, 6, 0, 6, 4, 6, 4, 2, 4, 0, 0, 6, 7, 4, 6, 6, 4, 3, 4, 0, 7, 0, 2, 0, 2, 2, 9, 4, 6, 6, 6, 6, 8, 4, 6, 6, 6, 0, 2, 5, 0, 3, 7, 5, 2, 4, 3, 2, 2, 6, 3, 6, 3, 2, 4, 2, 6, 6, 6, 0, 3, 9, 6, 4, 4, 9, 6, 4, 0, 0, 3, 6, 6, 3, 4, 4, 6, 9, 7, 2, 6, 5, 3, 6, 4, 5, 2, 4, 4, 1, 3, 6, 2, 9, 6, 4, 6, 6, 3, 2, 2, 0, 2, 6, 7, 6, 6, 9, 5, 6, 2, 5, 7, 0, 2, 4, 2, 4, 7, 6, 0, 2, 6, 3, 6, 0, 0, 0, 4, 2, 0, 8, 6, 6, 6, 7, 2, 0, 4, 6, 4, 2, 5, 3, 4, 8, 6, 6, 0, 8, 4, 4, 7, 7, 6, 3, 8, 2, 4, 0, 6, 6, 0, 3, 4, 4, 6, 9, 4, 6, 0, 2, 6, 6, 4, 0, 4, 8, 3, 1, 6, 4, 0, 2, 6, 6, 2, 0, 5, 4, 0, 3, 2, 2, 3, 0, 6, 6, 3, 7, 0, 6, 6, 6, 3, 6, 6, 6, 4, 3, 6, 0, 6, 6, 6, 4, 2, 4, 4, 9, 9, 5, 4, 4, 0, 2, 6, 6, 2, 0, 2, 4, 6, 7, 6, 6, 3, 2, 5, 3, 0, 6, 1, 6, 6, 6, 2, 9, 4, 0, 0, 8, 2, 6, 6, 2, 6, 7, 8, 6, 3, 6, 2, 6, 8, 4, 6, 9, 2, 6, 9, 7, 0, 5, 4, 1, 7, 2, 9, 6, 7, 0, 4, 3, 6, 5, 3, 2, 9, 2, 0, 6, 8, 4, 6, 4, 1, 4, 9, 2, 7, 2, 6, 5, 6, 6, 6, 2, 0, 6, 6, 2, 2, 6, 2, 0, 2, 4, 5, 8, 2, 8, 6, 6, 2, 2, 6, 2, 7, 6, 4, 6, 3, 6, 6, 6, 3, 6, 4, 7, 0, 2, 3, 3, 6, 6, 6, 0, 3, 0, 4, 6, 6, 6, 7, 5, 3, 4, 4, 6, 7, 4, 6, 7, 6, 8, 2, 0, 3, 6, 2, 7, 6, 6, 4, 2, 7, 2, 0, 5, 5, 0, 5, 2, 7, 0, 0, 2, 7, 6, 3, 4, 2, 0, 8, 3, 7, 2, 5, 0, 6, 8, 0, 7, 0, 9, 6, 4, 3, 4, 6, 3, 4, 2, 0, 0, 4, 1, 2, 6, 3, 3, 6, 8, 7, 6, 4, 2, 6, 7, 6, 9, 5, 6, 0, 2, 4, 3, 2, 2, 5, 6, 3, 6, 3, 7, 6, 5, 6, 6, 0, 6, 2, 2, 4, 3, 6, 6, 9, 0, 4, 3, 0, 4, 4, 6, 0, 6, 3, 8, 2, 3, 5, 2, 9, 2, 4, 6, 7, 2, 2, 6, 6, 8, 0, 2, 3, 7, 6, 6, 5, 2, 7, 8, 5, 2, 6, 7, 6, 6, 5, 4, 8, 0, 3, 4, 6, 6, 7, 2, 0, 7, 6, 6, 0, 4, 5, 6, 6, 7, 9, 9, 4, 3, 6, 6, 1, 2, 6, 4, 6, 6, 6, 2, 2, 6, 3, 1, 1, 3, 5, 6, 0, 2, 2, 4, 1, 6, 3, 0, 4, 2, 7, 6, 4, 0, 6, 4, 0, 0, 6, 4, 2, 2, 4, 2, 3, 3, 7, 4, 2, 6, 4, 3, 8, 7, 6, 4, 2, 2, 6, 6, 3, 6, 0, 2, 6, 4, 2, 6, 4, 5, 3, 6, 6, 9, 6, 2, 4, 4, 2, 4, 0, 3, 0, 3, 6, 6, 7, 2, 4, 6, 5, 2, 3, 6, 9, 1, 0, 5, 2, 4, 6, 2, 5, 8, 6, 6, 6, 2, 4, 2, 2, 3, 6, 4, 3, 6, 2, 9, 6, 0, 2, 6, 4, 6, 6, 6, 6, 7, 4, 0, 1, 6, 1, 8, 3, 3, 2, 6, 7, 0, 6, 7, 3, 6, 2, 6, 0, 3, 0, 7, 6, 6, 0, 6, 7, 0, 5, 4, 0, 4, 5, 7, 2, 0, 2, 6, 0, 7, 6, 3, 2, 0, 4, 6, 6, 2, 6, 3, 4, 6, 0, 2, 4, 0, 3, 6, 3, 5, 5, 0, 2, 0, 3, 0, 0, 6, 4, 6, 7, 6, 4, 6, 2, 9, 4, 0, 4, 4, 6, 6, 3, 0, 0, 4, 6, 4, 2, 2, 6, 6, 0, 9, 6, 4, 4, 4, 2, 4, 2, 6, 0, 8, 3, 3, 4, 3, 6, 6, 4, 2, 3, 6, 2, 6, 1, 6, 4, 6, 5, 7, 6, 4, 7, 2, 2, 4, 9, 4, 0, 7, 3, 9, 8, 4, 0, 0, 5, 7, 6, 8, 6, 8, 0, 6, 3, 4, 6, 0, 1, 2, 4, 4, 6, 7, 6, 7, 5, 8, 6, 6, 0, 1, 0, 3, 4, 2, 4, 2, 0, 8, 5, 5, 0, 6, 5, 4, 6, 6, 5, 4, 6, 2, 0, 2, 4, 2, 4, 7, 9, 4, 2, 4, 4, 2, 0, 0, 5, 0, 6, 6, 4, 2, 0, 9, 1, 8, 9, 4, 4, 4, 2, 6, 6, 6, 6, 0, 2, 6, 0, 6, 3, 6, 8, 6, 0, 2, 6, 9, 0, 6, 9, 6, 0, 6, 6, 4, 3, 0, 7, 2, 2, 2, 8, 0, 4, 4, 2, 2, 3, 6, 6, 7, 0, 7, 2, 5, 0, 2, 6, 2, 2, 0, 4, 6, 6, 2, 5, 6, 7, 0, 6, 2, 8, 8, 2, 6, 4, 6, 4, 6, 2, 6, 7, 4, 0, 6, 2, 2, 6, 0, 9, 4, 7, 9, 6, 0, 2, 6, 3, 0, 4, 6, 3, 0, 4, 6, 5, 6, 4, 8, 8, 6, 6, 6, 4, 2, 0, 6, 0, 5, 6, 7, 2, 4, 4, 0, 6, 6, 7, 6, 7, 2, 7, 2, 0, 2, 0, 0, 6, 7, 6, 7, 4, 3, 2, 6, 6, 6, 6, 6, 3, 0, 4, 6, 4, 5, 2, 3, 2, 0, 5, 2, 4, 4, 0, 6, 4, 5, 0, 4, 7, 2, 6, 2, 4, 7, 7, 4, 4, 0, 1, "
          ]
        }
      ],
      "source": [
        "for i in test_Y[test_Y != y_pred]:\n",
        "    print(i, end=', ')"
      ]
    },
    {
      "attachments": {},
      "cell_type": "markdown",
      "metadata": {},
      "source": [
        "Giá trị được dự đoán của các lớp bị dự đoán sai"
      ]
    },
    {
      "cell_type": "code",
      "execution_count": 123,
      "metadata": {},
      "outputs": [
        {
          "name": "stdout",
          "output_type": "stream",
          "text": [
            "4, 6, 2, 4, 9, 7, 6, 2, 4, 3, 2, 0, 6, 6, 6, 4, 2, 6, 4, 6, 5, 2, 0, 6, 6, 6, 6, 7, 2, 6, 2, 9, 2, 4, 4, 7, 3, 0, 3, 9, 2, 1, 0, 1, 6, 0, 0, 8, 4, 4, 6, 2, 8, 7, 8, 2, 4, 2, 6, 3, 6, 0, 4, 2, 4, 4, 6, 4, 4, 9, 3, 2, 2, 3, 2, 4, 2, 7, 2, 6, 4, 6, 9, 4, 4, 2, 3, 9, 5, 2, 2, 0, 9, 2, 4, 7, 6, 2, 2, 7, 5, 6, 6, 2, 6, 8, 6, 0, 2, 0, 6, 4, 2, 7, 6, 0, 5, 2, 2, 6, 7, 0, 2, 6, 0, 0, 6, 3, 0, 6, 0, 4, 6, 2, 6, 9, 7, 6, 4, 5, 0, 2, 2, 5, 0, 4, 0, 5, 0, 2, 0, 0, 6, 5, 4, 6, 4, 6, 6, 6, 6, 9, 7, 0, 9, 2, 2, 4, 9, 8, 4, 9, 7, 9, 6, 6, 4, 5, 3, 2, 9, 6, 8, 2, 5, 5, 8, 6, 6, 7, 0, 3, 0, 2, 0, 0, 3, 6, 4, 6, 2, 4, 4, 0, 0, 3, 4, 3, 4, 7, 2, 3, 2, 6, 2, 8, 9, 2, 3, 9, 8, 2, 2, 6, 9, 4, 7, 6, 0, 4, 6, 0, 2, 4, 2, 7, 2, 5, 6, 9, 2, 6, 2, 9, 2, 0, 9, 0, 3, 5, 4, 3, 3, 4, 6, 6, 6, 2, 6, 4, 7, 2, 0, 9, 0, 2, 9, 2, 6, 4, 6, 2, 5, 3, 3, 0, 0, 9, 6, 9, 6, 2, 6, 6, 4, 2, 0, 2, 6, 8, 0, 6, 0, 2, 6, 2, 8, 6, 8, 9, 6, 3, 7, 3, 0, 2, 7, 2, 3, 2, 2, 8, 2, 4, 6, 6, 7, 8, 2, 0, 6, 6, 3, 6, 8, 6, 3, 4, 9, 6, 4, 2, 3, 4, 0, 9, 1, 3, 4, 6, 7, 6, 0, 6, 2, 8, 4, 6, 2, 5, 6, 6, 5, 4, 4, 0, 0, 0, 8, 4, 1, 3, 6, 0, 6, 6, 3, 7, 0, 6, 2, 0, 4, 9, 2, 2, 9, 2, 0, 6, 6, 2, 0, 0, 2, 0, 6, 7, 3, 0, 0, 3, 6, 2, 5, 3, 4, 2, 4, 7, 2, 6, 2, 3, 4, 2, 4, 2, 3, 6, 3, 5, 2, 0, 3, 3, 0, 6, 6, 9, 8, 4, 6, 6, 4, 5, 2, 2, 0, 0, 0, 6, 2, 0, 0, 0, 6, 4, 9, 6, 6, 5, 9, 6, 2, 1, 6, 8, 2, 1, 0, 6, 3, 2, 4, 2, 2, 0, 6, 0, 5, 4, 6, 2, 7, 0, 6, 3, 6, 1, 0, 0, 6, 6, 6, 8, 5, 9, 4, 3, 7, 4, 4, 6, 7, 6, 3, 6, 3, 1, 4, 6, 5, 0, 6, 0, 0, 2, 4, 6, 6, 6, 3, 9, 4, 2, 7, 9, 2, 6, 9, 9, 3, 6, 8, 4, 6, 5, 0, 6, 6, 0, 6, 1, 6, 6, 6, 2, 8, 3, 6, 3, 0, 0, 5, 4, 6, 6, 2, 2, 4, 9, 6, 6, 5, 4, 0, 6, 9, 3, 3, 5, 9, 0, 1, 7, 6, 3, 2, 0, 0, 2, 6, 2, 2, 4, 5, 2, 0, 6, 4, 2, 2, 2, 6, 6, 4, 1, 6, 0, 6, 3, 6, 0, 4, 4, 6, 1, 6, 6, 6, 4, 4, 0, 6, 4, 3, 6, 9, 3, 8, 2, 0, 2, 4, 0, 4, 6, 6, 0, 6, 0, 2, 0, 2, 0, 2, 6, 7, 7, 7, 2, 6, 2, 6, 4, 0, 3, 3, 4, 2, 2, 9, 4, 0, 0, 4, 7, 4, 8, 0, 3, 2, 0, 4, 4, 7, 2, 6, 3, 5, 4, 2, 0, 6, 0, 5, 7, 4, 1, 0, 3, 0, 7, 6, 4, 5, 6, 0, 7, 9, 6, 9, 6, 3, 5, 8, 7, 4, 5, 6, 6, 2, 0, 8, 1, 4, 7, 4, 6, 2, 6, 2, 0, 2, 5, 6, 5, 4, 5, 3, 2, 7, 0, 4, 3, 8, 8, 3, 0, 8, 0, 0, 0, 6, 4, 3, 7, 2, 4, 6, 3, 0, 6, 8, 0, 4, 9, 0, 2, 4, 2, 2, 2, 3, 1, 2, 2, 9, 3, 6, 4, 4, 0, 4, 3, 6, 2, 6, 2, 4, 8, 2, 9, 8, 0, 3, 8, 0, 9, 6, 0, 5, 2, 0, 6, 8, 6, 4, 6, 5, 0, 4, 3, 3, 9, 4, 6, 7, 7, 1, 9, 6, 9, 6, 6, 4, 5, 4, 2, 2, 6, 6, 2, 2, 5, 4, 7, 3, 3, 5, 6, 9, 6, 7, 2, 2, 4, 6, 3, 0, 2, 6, 3, 6, 2, 3, 8, 2, 6, 4, 2, 2, 9, 2, 6, 0, 0, 9, 0, 7, 9, 2, 6, 4, 6, 4, 0, 6, 3, 0, 1, 4, 0, 5, 0, 7, 3, 0, 6, 0, 1, 4, 2, 0, 4, 2, 5, 2, 2, 0, 3, 3, 3, 4, 6, 0, 6, 6, 4, 0, 7, 4, 5, 4, 2, 3, 9, 6, 4, 2, 0, 2, 6, 6, 2, 9, 0, 0, 9, 4, 5, 6, 7, 6, 4, 9, 4, 2, 7, 2, 6, 6, 0, 3, 0, 2, 5, 4, 2, 9, 0, 4, 3, 6, 7, 0, 0, 9, 5, 7, 2, 4, 4, 0, 3, 4, 2, 2, 4, 0, 0, 4, 4, 8, 4, 6, 6, 2, 6, 4, 8, 6, 6, 6, 3, 3, 0, 3, 6, 4, 9, 0, 6, 6, 2, 3, 8, 3, 4, 6, 4, 6, 2, 4, 2, 6, 9, 6, 4, 4, 2, 1, 6, 9, 0, 6, 4, 0, 2, 4, 1, 2, 6, 6, 2, 2, 6, 0, 3, 9, 0, 4, 4, 7, 0, 4, 2, 6, 4, 6, 3, 1, 3, 4, 3, 0, 9, 4, 2, 4, 7, 6, 4, 0, 5, 3, 6, 7, 6, 6, 2, 6, 7, 6, 4, 2, 0, 6, 6, 6, 4, 1, 0, 6, 1, 0, 6, 7, 8, 6, 4, 0, 3, 2, 4, 0, 4, 5, 2, 6, 3, 0, 3, 6, 0, 4, 4, 0, 9, 6, 0, 5, 4, 4, 6, 0, 6, 1, 6, 5, 0, 4, 3, 4, 5, 3, 9, 6, 3, 3, 7, 5, 4, 6, 6, 1, 2, 9, 2, 0, 6, 3, 2, 0, 0, 4, 2, 4, 2, 4, 6, 3, 6, 3, 6, 4, 6, 1, 7, 6, 4, 2, 4, 6, 6, 2, 6, 4, 9, 2, 6, 3, 8, 7, 2, 6, 6, 6, 0, 3, 1, 2, 8, 6, 8, 6, 4, 4, 0, 0, 9, 8, 2, 3, 2, 2, 4, 2, 4, 2, 6, 6, 6, 0, 3, 0, 2, 4, 3, 3, 4, 0, 4, 2, 5, 4, 6, 2, 7, 5, 0, 2, 5, 4, 6, 2, 5, 2, 6, 9, 0, 7, 6, 2, 3, 6, 9, 9, 0, 4, 0, 0, 6, 0, 6, 6, 4, 6, 3, 6, 6, 2, 2, 5, 0, 5, 8, 0, 0, 4, 6, 3, 1, 4, 6, 6, 2, 4, 6, 6, 7, 7, 6, 2, 9, 6, 2, 4, 9, 6, 2, 6, 6, 6, 2, 4, 3, 9, 5, 6, 6, 6, 6, 4, 3, 6, 8, 6, 8, 0, 3, 6, 6, 5, 3, 6, 7, 6, 2, 6, 4, 4, 8, 8, 2, 6, 6, 4, 6, 2, 6, 0, 4, 3, 6, 6, 0, 7, 6, 2, 7, 2, 3, 4, 4, 2, 6, 3, 9, 4, 6, 6, 5, 6, 3, 6, 4, 4, 1, 2, 0, 9, 6, 5, 0, 7, 5, 6, 3, 4, 6, 8, 2, 1, 3, 4, 9, 2, 9, 2, 2, 4, 6, 0, 6, 8, 6, 4, 6, 2, 6, 2, 9, 2, 8, 2, 3, 0, 0, 6, 5, 6, 9, 7, 2, 6, 6, 4, 1, 6, 6, 2, 2, 1, 2, 4, 9, 0, 3, 0, 5, 2, 3, 4, 6, 4, 6, 0, 2, 7, 4, 9, 4, 8, 2, 6, 2, 2, 9, 2, 9, 4, 9, 3, 6, 6, 3, 8, 2, 5, 0, 8, 2, 0, 4, 2, 0, 4, 0, 0, 6, 6, 6, 4, 6, 7, 6, 4, 4, 6, 7, 4, 6, 6, 5, 0, 3, 8, 2, 3, 9, 4, 2, 6, 6, 9, 9, 6, 2, 6, 2, "
          ]
        }
      ],
      "source": [
        "for i in y_pred[test_Y != y_pred]:\n",
        "    print(i, end=', ')"
      ]
    },
    {
      "attachments": {},
      "cell_type": "markdown",
      "metadata": {},
      "source": [
        "Thống kê các lớp bị dự đoán sai và các giá trị được dự đoán cho lớp đó (Top 20)"
      ]
    },
    {
      "cell_type": "code",
      "execution_count": 124,
      "metadata": {},
      "outputs": [
        {
          "data": {
            "text/html": [
              "<div>\n",
              "<style scoped>\n",
              "    .dataframe tbody tr th:only-of-type {\n",
              "        vertical-align: middle;\n",
              "    }\n",
              "\n",
              "    .dataframe tbody tr th {\n",
              "        vertical-align: top;\n",
              "    }\n",
              "\n",
              "    .dataframe thead tr th {\n",
              "        text-align: left;\n",
              "    }\n",
              "</style>\n",
              "<table border=\"1\" class=\"dataframe\">\n",
              "  <thead>\n",
              "    <tr>\n",
              "      <th>actual</th>\n",
              "      <th colspan=\"2\" halign=\"left\">6</th>\n",
              "      <th>0</th>\n",
              "      <th>2</th>\n",
              "      <th>4</th>\n",
              "      <th>6</th>\n",
              "      <th>2</th>\n",
              "      <th>4</th>\n",
              "      <th colspan=\"2\" halign=\"left\">7</th>\n",
              "      <th>5</th>\n",
              "      <th>0</th>\n",
              "      <th>4</th>\n",
              "      <th>3</th>\n",
              "      <th>9</th>\n",
              "      <th>6</th>\n",
              "      <th>3</th>\n",
              "      <th>5</th>\n",
              "      <th colspan=\"2\" halign=\"left\">3</th>\n",
              "    </tr>\n",
              "    <tr>\n",
              "      <th>predict</th>\n",
              "      <th>0</th>\n",
              "      <th>2</th>\n",
              "      <th>6</th>\n",
              "      <th>4</th>\n",
              "      <th>2</th>\n",
              "      <th>4</th>\n",
              "      <th>6</th>\n",
              "      <th>6</th>\n",
              "      <th>9</th>\n",
              "      <th>5</th>\n",
              "      <th>7</th>\n",
              "      <th>3</th>\n",
              "      <th>3</th>\n",
              "      <th>6</th>\n",
              "      <th>7</th>\n",
              "      <th>3</th>\n",
              "      <th>0</th>\n",
              "      <th>9</th>\n",
              "      <th>4</th>\n",
              "      <th>1</th>\n",
              "    </tr>\n",
              "  </thead>\n",
              "  <tbody>\n",
              "    <tr>\n",
              "      <th>count</th>\n",
              "      <td>148</td>\n",
              "      <td>109</td>\n",
              "      <td>109</td>\n",
              "      <td>103</td>\n",
              "      <td>93</td>\n",
              "      <td>85</td>\n",
              "      <td>84</td>\n",
              "      <td>83</td>\n",
              "      <td>64</td>\n",
              "      <td>40</td>\n",
              "      <td>38</td>\n",
              "      <td>38</td>\n",
              "      <td>32</td>\n",
              "      <td>32</td>\n",
              "      <td>30</td>\n",
              "      <td>28</td>\n",
              "      <td>28</td>\n",
              "      <td>24</td>\n",
              "      <td>22</td>\n",
              "      <td>21</td>\n",
              "    </tr>\n",
              "  </tbody>\n",
              "</table>\n",
              "</div>"
            ],
            "text/plain": [
              "actual     6         0    2   4   6   2   4   7       5   0   4   3   9   6  \\\n",
              "predict    0    2    6    4   2   4   6   6   9   5   7   3   3   6   7   3   \n",
              "count    148  109  109  103  93  85  84  83  64  40  38  38  32  32  30  28   \n",
              "\n",
              "actual    3   5   3      \n",
              "predict   0   9   4   1  \n",
              "count    28  24  22  21  "
            ]
          },
          "execution_count": 124,
          "metadata": {},
          "output_type": "execute_result"
        }
      ],
      "source": [
        "df = pd.DataFrame([[1]*len(test_Y[test_Y != y_pred]),test_Y[test_Y != y_pred],\n",
        "                   y_pred[test_Y != y_pred]], index=['count','actual','predict']).transpose()\n",
        "df = df.groupby(['actual','predict']).sum('count')\n",
        "df = df.sort_values('count', ascending=False)\n",
        "df.head(20).transpose()"
      ]
    },
    {
      "attachments": {},
      "cell_type": "markdown",
      "metadata": {},
      "source": [
        "Điểm số accuracy"
      ]
    },
    {
      "cell_type": "code",
      "execution_count": 125,
      "metadata": {},
      "outputs": [
        {
          "data": {
            "text/plain": [
              "0.8568"
            ]
          },
          "execution_count": 125,
          "metadata": {},
          "output_type": "execute_result"
        }
      ],
      "source": [
        "accuracy(y_pred, test_Y)"
      ]
    }
  ],
  "metadata": {
    "colab": {
      "provenance": [],
      "toc_visible": true
    },
    "kernelspec": {
      "display_name": "Python 3",
      "language": "python",
      "name": "python3"
    },
    "language_info": {
      "codemirror_mode": {
        "name": "ipython",
        "version": 3
      },
      "file_extension": ".py",
      "mimetype": "text/x-python",
      "name": "python",
      "nbconvert_exporter": "python",
      "pygments_lexer": "ipython3",
      "version": "3.9.7"
    },
    "orig_nbformat": 4
  },
  "nbformat": 4,
  "nbformat_minor": 0
}
